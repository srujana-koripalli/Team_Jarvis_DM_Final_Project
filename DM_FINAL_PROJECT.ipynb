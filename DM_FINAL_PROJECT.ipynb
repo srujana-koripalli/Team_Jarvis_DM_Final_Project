{
  "nbformat": 4,
  "nbformat_minor": 0,
  "metadata": {
    "colab": {
      "name": "DM_FINAL_PROJECT.ipynb",
      "provenance": [],
      "collapsed_sections": [
        "M5JVfEauwrBd"
      ],
      "include_colab_link": true
    },
    "kernelspec": {
      "name": "python3",
      "display_name": "Python 3"
    },
    "language_info": {
      "name": "python"
    }
  },
  "cells": [
    {
      "cell_type": "markdown",
      "metadata": {
        "id": "view-in-github",
        "colab_type": "text"
      },
      "source": [
        "<a href=\"https://colab.research.google.com/github/srujana-koripalli/Team_Jarvis_DM_Final_Project/blob/main/DM_FINAL_PROJECT.ipynb\" target=\"_parent\"><img src=\"https://colab.research.google.com/assets/colab-badge.svg\" alt=\"Open In Colab\"/></a>"
      ]
    },
    {
      "cell_type": "markdown",
      "source": [
        "# DM FINAL PROJECT\n",
        "\n",
        "**Topic:**\n",
        "\n",
        "Predict Most profitable real estate investment in  San Jose city.\n",
        "\n",
        "**Team Members:**\n",
        "\n",
        "* Srujana Koripalli \n",
        "* Prajakta Joshi\n",
        "* Mamatha Guntu\n",
        "* Umashankar kumar\n"
      ],
      "metadata": {
        "id": "9MtU2uJgwgTM"
      }
    },
    {
      "cell_type": "markdown",
      "source": [
        "## Data Preparation"
      ],
      "metadata": {
        "id": "M5JVfEauwrBd"
      }
    },
    {
      "cell_type": "markdown",
      "source": [
        "**Import libraries**"
      ],
      "metadata": {
        "id": "9EVfiOdTx7Wm"
      }
    },
    {
      "cell_type": "code",
      "source": [
        "%matplotlib inline\n",
        "import matplotlib.pyplot as plt\n",
        "import seaborn as sns; sns.set()\n",
        "import numpy as np\n",
        "import pandas as pd\n",
        "import io\n",
        "import datetime\n",
        "import pandas as pd\n",
        "import seaborn as sns\n",
        "import numpy as np\n",
        "import matplotlib.pyplot as plt\n",
        "import sklearn\n",
        "from sklearn.cluster import KMeans \n",
        "from yellowbrick import ROCAUC\n",
        "from yellowbrick.classifier import ConfusionMatrix, ClassificationReport\n",
        "\n",
        "from google.colab import drive\n",
        "drive.mount('/content/gdrive', force_remount=True)"
      ],
      "metadata": {
        "id": "YcyakOB0x7Cc",
        "colab": {
          "base_uri": "https://localhost:8080/"
        },
        "outputId": "92c6bb26-705c-4e0f-f734-29b949f31352"
      },
      "execution_count": null,
      "outputs": [
        {
          "output_type": "stream",
          "name": "stdout",
          "text": [
            "Mounted at /content/gdrive\n"
          ]
        }
      ]
    },
    {
      "cell_type": "code",
      "source": [
        "!pip install eli5\n",
        "from eli5 import explain_weights\n",
        "from eli5.sklearn import PermutationImportance\n",
        "import eli5"
      ],
      "metadata": {
        "colab": {
          "base_uri": "https://localhost:8080/"
        },
        "id": "yobNZqQPz1AG",
        "outputId": "689514fb-11d7-4be1-bf50-ac446f0803ef"
      },
      "execution_count": null,
      "outputs": [
        {
          "output_type": "stream",
          "name": "stdout",
          "text": [
            "Requirement already satisfied: eli5 in /usr/local/lib/python3.7/dist-packages (0.11.0)\n",
            "Requirement already satisfied: six in /usr/local/lib/python3.7/dist-packages (from eli5) (1.15.0)\n",
            "Requirement already satisfied: scikit-learn>=0.20 in /usr/local/lib/python3.7/dist-packages (from eli5) (1.0.1)\n",
            "Requirement already satisfied: attrs>16.0.0 in /usr/local/lib/python3.7/dist-packages (from eli5) (21.2.0)\n",
            "Requirement already satisfied: numpy>=1.9.0 in /usr/local/lib/python3.7/dist-packages (from eli5) (1.19.5)\n",
            "Requirement already satisfied: graphviz in /usr/local/lib/python3.7/dist-packages (from eli5) (0.10.1)\n",
            "Requirement already satisfied: tabulate>=0.7.7 in /usr/local/lib/python3.7/dist-packages (from eli5) (0.8.9)\n",
            "Requirement already satisfied: jinja2 in /usr/local/lib/python3.7/dist-packages (from eli5) (2.11.3)\n",
            "Requirement already satisfied: scipy in /usr/local/lib/python3.7/dist-packages (from eli5) (1.4.1)\n",
            "Requirement already satisfied: threadpoolctl>=2.0.0 in /usr/local/lib/python3.7/dist-packages (from scikit-learn>=0.20->eli5) (3.0.0)\n",
            "Requirement already satisfied: joblib>=0.11 in /usr/local/lib/python3.7/dist-packages (from scikit-learn>=0.20->eli5) (1.1.0)\n",
            "Requirement already satisfied: MarkupSafe>=0.23 in /usr/local/lib/python3.7/dist-packages (from jinja2->eli5) (2.0.1)\n"
          ]
        }
      ]
    },
    {
      "cell_type": "code",
      "source": [
        "!pip install requests\n",
        "!pip install html5lib\n",
        "!pip install bs4"
      ],
      "metadata": {
        "colab": {
          "base_uri": "https://localhost:8080/"
        },
        "id": "NGys1uZveGEH",
        "outputId": "e884ab2f-9549-4b90-f695-4b7d847dbeee"
      },
      "execution_count": null,
      "outputs": [
        {
          "output_type": "stream",
          "name": "stdout",
          "text": [
            "Requirement already satisfied: requests in /usr/local/lib/python3.7/dist-packages (2.23.0)\n",
            "Requirement already satisfied: chardet<4,>=3.0.2 in /usr/local/lib/python3.7/dist-packages (from requests) (3.0.4)\n",
            "Requirement already satisfied: certifi>=2017.4.17 in /usr/local/lib/python3.7/dist-packages (from requests) (2021.10.8)\n",
            "Requirement already satisfied: urllib3!=1.25.0,!=1.25.1,<1.26,>=1.21.1 in /usr/local/lib/python3.7/dist-packages (from requests) (1.24.3)\n",
            "Requirement already satisfied: idna<3,>=2.5 in /usr/local/lib/python3.7/dist-packages (from requests) (2.10)\n",
            "Requirement already satisfied: html5lib in /usr/local/lib/python3.7/dist-packages (1.0.1)\n",
            "Requirement already satisfied: webencodings in /usr/local/lib/python3.7/dist-packages (from html5lib) (0.5.1)\n",
            "Requirement already satisfied: six>=1.9 in /usr/local/lib/python3.7/dist-packages (from html5lib) (1.15.0)\n",
            "Requirement already satisfied: bs4 in /usr/local/lib/python3.7/dist-packages (0.0.1)\n",
            "Requirement already satisfied: beautifulsoup4 in /usr/local/lib/python3.7/dist-packages (from bs4) (4.6.3)\n"
          ]
        }
      ]
    },
    {
      "cell_type": "code",
      "source": [
        "import requests \n",
        "from bs4 import BeautifulSoup \n"
      ],
      "metadata": {
        "id": "1PAUJIDleN52"
      },
      "execution_count": null,
      "outputs": []
    },
    {
      "cell_type": "code",
      "source": [
        "# load data\n",
        "import pandas as pd \n",
        "\n",
        "house_data = pd.read_csv('/content/gdrive/Shareddrives/DM_Datasets/zillow_data_scraped.csv')\n",
        "house_data"
      ],
      "metadata": {
        "colab": {
          "base_uri": "https://localhost:8080/"
        },
        "id": "7Qd5XEG_x5xQ",
        "outputId": "06e23818-bc30-4bb6-959d-c0afa526de3f"
      },
      "execution_count": null,
      "outputs": [
        {
          "output_type": "execute_result",
          "data": {
            "text/html": [
              "<div>\n",
              "<style scoped>\n",
              "    .dataframe tbody tr th:only-of-type {\n",
              "        vertical-align: middle;\n",
              "    }\n",
              "\n",
              "    .dataframe tbody tr th {\n",
              "        vertical-align: top;\n",
              "    }\n",
              "\n",
              "    .dataframe thead th {\n",
              "        text-align: right;\n",
              "    }\n",
              "</style>\n",
              "<table border=\"1\" class=\"dataframe\">\n",
              "  <thead>\n",
              "    <tr style=\"text-align: right;\">\n",
              "      <th></th>\n",
              "      <th>Url</th>\n",
              "      <th>Zestimate</th>\n",
              "      <th>Price</th>\n",
              "      <th>Rent Zestimate</th>\n",
              "      <th>Days On Zillow</th>\n",
              "      <th>Bathrooms</th>\n",
              "      <th>Bedrooms</th>\n",
              "      <th>Living Area</th>\n",
              "      <th>Lot Size</th>\n",
              "      <th>Home Type</th>\n",
              "      <th>Street Address</th>\n",
              "      <th>City</th>\n",
              "      <th>Zip</th>\n",
              "      <th>State</th>\n",
              "      <th>Country</th>\n",
              "      <th>Broker Name</th>\n",
              "      <th>Has 3D Model</th>\n",
              "      <th>Has Image</th>\n",
              "      <th>Has Video</th>\n",
              "      <th>isZillowOwned</th>\n",
              "      <th>sgapt</th>\n",
              "      <th>statusText</th>\n",
              "      <th>statusType</th>\n",
              "    </tr>\n",
              "  </thead>\n",
              "  <tbody>\n",
              "    <tr>\n",
              "      <th>0</th>\n",
              "      <td>https://www.zillow.com/homedetails/238-Kenbroo...</td>\n",
              "      <td>625700.0</td>\n",
              "      <td>655000</td>\n",
              "      <td>2849.0</td>\n",
              "      <td>Not specified</td>\n",
              "      <td>2.0</td>\n",
              "      <td>3.0</td>\n",
              "      <td>1164.0</td>\n",
              "      <td>NaN</td>\n",
              "      <td>CONDO</td>\n",
              "      <td>238 Kenbrook Cir</td>\n",
              "      <td>San Jose</td>\n",
              "      <td>95111</td>\n",
              "      <td>CA</td>\n",
              "      <td>USA</td>\n",
              "      <td>NaN</td>\n",
              "      <td>False</td>\n",
              "      <td>True</td>\n",
              "      <td>False</td>\n",
              "      <td>False</td>\n",
              "      <td>Unknown Listed By</td>\n",
              "      <td>Sold</td>\n",
              "      <td>SOLD</td>\n",
              "    </tr>\n",
              "    <tr>\n",
              "      <th>1</th>\n",
              "      <td>https://www.zillow.com/homedetails/473-Toyon-A...</td>\n",
              "      <td>920100.0</td>\n",
              "      <td>920000</td>\n",
              "      <td>3499.0</td>\n",
              "      <td>Not specified</td>\n",
              "      <td>2.0</td>\n",
              "      <td>3.0</td>\n",
              "      <td>1287.0</td>\n",
              "      <td>NaN</td>\n",
              "      <td>SINGLE_FAMILY</td>\n",
              "      <td>473 Toyon Ave</td>\n",
              "      <td>San Jose</td>\n",
              "      <td>95127</td>\n",
              "      <td>CA</td>\n",
              "      <td>USA</td>\n",
              "      <td>NaN</td>\n",
              "      <td>False</td>\n",
              "      <td>True</td>\n",
              "      <td>False</td>\n",
              "      <td>False</td>\n",
              "      <td>Unknown Listed By</td>\n",
              "      <td>Sold</td>\n",
              "      <td>SOLD</td>\n",
              "    </tr>\n",
              "    <tr>\n",
              "      <th>2</th>\n",
              "      <td>https://www.zillow.com/homedetails/6424-Nepo-C...</td>\n",
              "      <td>1451600.0</td>\n",
              "      <td>1420000</td>\n",
              "      <td>3959.0</td>\n",
              "      <td>Not specified</td>\n",
              "      <td>2.0</td>\n",
              "      <td>4.0</td>\n",
              "      <td>1958.0</td>\n",
              "      <td>NaN</td>\n",
              "      <td>SINGLE_FAMILY</td>\n",
              "      <td>6424 Nepo Ct</td>\n",
              "      <td>San Jose</td>\n",
              "      <td>95119</td>\n",
              "      <td>CA</td>\n",
              "      <td>USA</td>\n",
              "      <td>NaN</td>\n",
              "      <td>False</td>\n",
              "      <td>True</td>\n",
              "      <td>False</td>\n",
              "      <td>False</td>\n",
              "      <td>Unknown Listed By</td>\n",
              "      <td>Sold</td>\n",
              "      <td>SOLD</td>\n",
              "    </tr>\n",
              "    <tr>\n",
              "      <th>3</th>\n",
              "      <td>https://www.zillow.com/homedetails/5887-Paddon...</td>\n",
              "      <td>1379100.0</td>\n",
              "      <td>1379000</td>\n",
              "      <td>3697.0</td>\n",
              "      <td>Not specified</td>\n",
              "      <td>2.0</td>\n",
              "      <td>3.0</td>\n",
              "      <td>1675.0</td>\n",
              "      <td>NaN</td>\n",
              "      <td>SINGLE_FAMILY</td>\n",
              "      <td>5887 Paddon Cir</td>\n",
              "      <td>San Jose</td>\n",
              "      <td>95123</td>\n",
              "      <td>CA</td>\n",
              "      <td>USA</td>\n",
              "      <td>NaN</td>\n",
              "      <td>False</td>\n",
              "      <td>True</td>\n",
              "      <td>False</td>\n",
              "      <td>False</td>\n",
              "      <td>Unknown Listed By</td>\n",
              "      <td>Sold</td>\n",
              "      <td>SOLD</td>\n",
              "    </tr>\n",
              "    <tr>\n",
              "      <th>4</th>\n",
              "      <td>https://www.zillow.com/homedetails/443-Mignot-...</td>\n",
              "      <td>896800.0</td>\n",
              "      <td>900000</td>\n",
              "      <td>3820.0</td>\n",
              "      <td>Not specified</td>\n",
              "      <td>3.0</td>\n",
              "      <td>5.0</td>\n",
              "      <td>1617.0</td>\n",
              "      <td>NaN</td>\n",
              "      <td>SINGLE_FAMILY</td>\n",
              "      <td>443 Mignot Ln</td>\n",
              "      <td>San Jose</td>\n",
              "      <td>95111</td>\n",
              "      <td>CA</td>\n",
              "      <td>USA</td>\n",
              "      <td>NaN</td>\n",
              "      <td>False</td>\n",
              "      <td>True</td>\n",
              "      <td>False</td>\n",
              "      <td>False</td>\n",
              "      <td>Unknown Listed By</td>\n",
              "      <td>Sold</td>\n",
              "      <td>SOLD</td>\n",
              "    </tr>\n",
              "    <tr>\n",
              "      <th>...</th>\n",
              "      <td>...</td>\n",
              "      <td>...</td>\n",
              "      <td>...</td>\n",
              "      <td>...</td>\n",
              "      <td>...</td>\n",
              "      <td>...</td>\n",
              "      <td>...</td>\n",
              "      <td>...</td>\n",
              "      <td>...</td>\n",
              "      <td>...</td>\n",
              "      <td>...</td>\n",
              "      <td>...</td>\n",
              "      <td>...</td>\n",
              "      <td>...</td>\n",
              "      <td>...</td>\n",
              "      <td>...</td>\n",
              "      <td>...</td>\n",
              "      <td>...</td>\n",
              "      <td>...</td>\n",
              "      <td>...</td>\n",
              "      <td>...</td>\n",
              "      <td>...</td>\n",
              "      <td>...</td>\n",
              "    </tr>\n",
              "    <tr>\n",
              "      <th>394</th>\n",
              "      <td>https://www.zillow.com/homedetails/38-N-Almade...</td>\n",
              "      <td>713300.0</td>\n",
              "      <td>699000</td>\n",
              "      <td>2749.0</td>\n",
              "      <td>46</td>\n",
              "      <td>1.0</td>\n",
              "      <td>1.0</td>\n",
              "      <td>953.0</td>\n",
              "      <td>NaN</td>\n",
              "      <td>CONDO</td>\n",
              "      <td>38 N Almaden Blvd UNIT 516</td>\n",
              "      <td>San Jose</td>\n",
              "      <td>95110</td>\n",
              "      <td>CA</td>\n",
              "      <td>USA</td>\n",
              "      <td>NaN</td>\n",
              "      <td>False</td>\n",
              "      <td>True</td>\n",
              "      <td>False</td>\n",
              "      <td>False</td>\n",
              "      <td>For Sale (Broker)</td>\n",
              "      <td>Condo for sale</td>\n",
              "      <td>FOR_SALE</td>\n",
              "    </tr>\n",
              "    <tr>\n",
              "      <th>395</th>\n",
              "      <td>https://www.zillow.com/homedetails/466-N-13th-...</td>\n",
              "      <td>NaN</td>\n",
              "      <td>2250000</td>\n",
              "      <td>2100.0</td>\n",
              "      <td>46</td>\n",
              "      <td>NaN</td>\n",
              "      <td>NaN</td>\n",
              "      <td>3825.0</td>\n",
              "      <td>NaN</td>\n",
              "      <td>MULTI_FAMILY</td>\n",
              "      <td>466 N 13th St</td>\n",
              "      <td>San Jose</td>\n",
              "      <td>95112</td>\n",
              "      <td>CA</td>\n",
              "      <td>USA</td>\n",
              "      <td>NaN</td>\n",
              "      <td>False</td>\n",
              "      <td>True</td>\n",
              "      <td>False</td>\n",
              "      <td>False</td>\n",
              "      <td>For Sale (Broker)</td>\n",
              "      <td>Multi-family home for sale</td>\n",
              "      <td>FOR_SALE</td>\n",
              "    </tr>\n",
              "    <tr>\n",
              "      <th>396</th>\n",
              "      <td>https://www.zillow.com/homedetails/530-N-2nd-S...</td>\n",
              "      <td>2414030.0</td>\n",
              "      <td>2395000</td>\n",
              "      <td>1694.0</td>\n",
              "      <td>46</td>\n",
              "      <td>NaN</td>\n",
              "      <td>NaN</td>\n",
              "      <td>4088.0</td>\n",
              "      <td>NaN</td>\n",
              "      <td>MULTI_FAMILY</td>\n",
              "      <td>530 N 2nd St</td>\n",
              "      <td>San Jose</td>\n",
              "      <td>95112</td>\n",
              "      <td>CA</td>\n",
              "      <td>USA</td>\n",
              "      <td>NaN</td>\n",
              "      <td>False</td>\n",
              "      <td>True</td>\n",
              "      <td>False</td>\n",
              "      <td>False</td>\n",
              "      <td>For Sale (Broker)</td>\n",
              "      <td>Multi-family home for sale</td>\n",
              "      <td>FOR_SALE</td>\n",
              "    </tr>\n",
              "    <tr>\n",
              "      <th>397</th>\n",
              "      <td>https://www.zillow.com/homedetails/188-W-Saint...</td>\n",
              "      <td>512800.0</td>\n",
              "      <td>509000</td>\n",
              "      <td>2777.0</td>\n",
              "      <td>48</td>\n",
              "      <td>1.0</td>\n",
              "      <td>0.0</td>\n",
              "      <td>519.0</td>\n",
              "      <td>NaN</td>\n",
              "      <td>CONDO</td>\n",
              "      <td>188 W Saint James St #10317</td>\n",
              "      <td>San Jose</td>\n",
              "      <td>95110</td>\n",
              "      <td>CA</td>\n",
              "      <td>USA</td>\n",
              "      <td>NaN</td>\n",
              "      <td>False</td>\n",
              "      <td>True</td>\n",
              "      <td>False</td>\n",
              "      <td>False</td>\n",
              "      <td>For Sale (Broker)</td>\n",
              "      <td>Condo for sale</td>\n",
              "      <td>FOR_SALE</td>\n",
              "    </tr>\n",
              "    <tr>\n",
              "      <th>398</th>\n",
              "      <td>https://www.zillow.com/homedetails/188-W-Saint...</td>\n",
              "      <td>796800.0</td>\n",
              "      <td>779000</td>\n",
              "      <td>2746.0</td>\n",
              "      <td>50</td>\n",
              "      <td>1.0</td>\n",
              "      <td>1.0</td>\n",
              "      <td>819.0</td>\n",
              "      <td>NaN</td>\n",
              "      <td>CONDO</td>\n",
              "      <td>188 W Saint James St #10605</td>\n",
              "      <td>San Jose</td>\n",
              "      <td>95110</td>\n",
              "      <td>CA</td>\n",
              "      <td>USA</td>\n",
              "      <td>NaN</td>\n",
              "      <td>False</td>\n",
              "      <td>True</td>\n",
              "      <td>False</td>\n",
              "      <td>False</td>\n",
              "      <td>For Sale (Broker)</td>\n",
              "      <td>Condo for sale</td>\n",
              "      <td>FOR_SALE</td>\n",
              "    </tr>\n",
              "  </tbody>\n",
              "</table>\n",
              "<p>399 rows × 23 columns</p>\n",
              "</div>"
            ],
            "text/plain": [
              "                                                   Url  ...  statusType\n",
              "0    https://www.zillow.com/homedetails/238-Kenbroo...  ...        SOLD\n",
              "1    https://www.zillow.com/homedetails/473-Toyon-A...  ...        SOLD\n",
              "2    https://www.zillow.com/homedetails/6424-Nepo-C...  ...        SOLD\n",
              "3    https://www.zillow.com/homedetails/5887-Paddon...  ...        SOLD\n",
              "4    https://www.zillow.com/homedetails/443-Mignot-...  ...        SOLD\n",
              "..                                                 ...  ...         ...\n",
              "394  https://www.zillow.com/homedetails/38-N-Almade...  ...    FOR_SALE\n",
              "395  https://www.zillow.com/homedetails/466-N-13th-...  ...    FOR_SALE\n",
              "396  https://www.zillow.com/homedetails/530-N-2nd-S...  ...    FOR_SALE\n",
              "397  https://www.zillow.com/homedetails/188-W-Saint...  ...    FOR_SALE\n",
              "398  https://www.zillow.com/homedetails/188-W-Saint...  ...    FOR_SALE\n",
              "\n",
              "[399 rows x 23 columns]"
            ]
          },
          "metadata": {},
          "execution_count": 71
        }
      ]
    },
    {
      "cell_type": "code",
      "source": [
        "house_data.info()\n"
      ],
      "metadata": {
        "id": "Ubauh6DcxJw4",
        "colab": {
          "base_uri": "https://localhost:8080/"
        },
        "outputId": "b468c9ac-310f-42e8-ec36-c4da06dd4799"
      },
      "execution_count": null,
      "outputs": [
        {
          "output_type": "stream",
          "name": "stdout",
          "text": [
            "<class 'pandas.core.frame.DataFrame'>\n",
            "RangeIndex: 399 entries, 0 to 398\n",
            "Data columns (total 23 columns):\n",
            " #   Column          Non-Null Count  Dtype  \n",
            "---  ------          --------------  -----  \n",
            " 0   Url             399 non-null    object \n",
            " 1   Zestimate       301 non-null    float64\n",
            " 2   Price           399 non-null    int64  \n",
            " 3   Rent Zestimate  383 non-null    float64\n",
            " 4   Days On Zillow  399 non-null    object \n",
            " 5   Bathrooms       373 non-null    float64\n",
            " 6   Bedrooms        372 non-null    float64\n",
            " 7   Living Area     386 non-null    float64\n",
            " 8   Lot Size        0 non-null      float64\n",
            " 9   Home Type       399 non-null    object \n",
            " 10  Street Address  399 non-null    object \n",
            " 11  City            399 non-null    object \n",
            " 12  Zip             399 non-null    int64  \n",
            " 13  State           399 non-null    object \n",
            " 14  Country         399 non-null    object \n",
            " 15  Broker Name     6 non-null      object \n",
            " 16  Has 3D Model    399 non-null    bool   \n",
            " 17  Has Image       373 non-null    object \n",
            " 18  Has Video       399 non-null    bool   \n",
            " 19  isZillowOwned   399 non-null    bool   \n",
            " 20  sgapt           399 non-null    object \n",
            " 21  statusText      399 non-null    object \n",
            " 22  statusType      399 non-null    object \n",
            "dtypes: bool(3), float64(6), int64(2), object(12)\n",
            "memory usage: 63.6+ KB\n"
          ]
        }
      ]
    },
    {
      "cell_type": "code",
      "source": [
        "# remove houses with price 0 or Nan \n",
        "house_data = house_data[house_data['Price']>0]\n",
        "house_data.head(10)"
      ],
      "metadata": {
        "colab": {
          "base_uri": "https://localhost:8080/"
        },
        "id": "wksuJqPeLIBZ",
        "outputId": "172de9e8-644a-467b-f41d-0d3c5f623ffe"
      },
      "execution_count": null,
      "outputs": [
        {
          "output_type": "execute_result",
          "data": {
            "text/html": [
              "<div>\n",
              "<style scoped>\n",
              "    .dataframe tbody tr th:only-of-type {\n",
              "        vertical-align: middle;\n",
              "    }\n",
              "\n",
              "    .dataframe tbody tr th {\n",
              "        vertical-align: top;\n",
              "    }\n",
              "\n",
              "    .dataframe thead th {\n",
              "        text-align: right;\n",
              "    }\n",
              "</style>\n",
              "<table border=\"1\" class=\"dataframe\">\n",
              "  <thead>\n",
              "    <tr style=\"text-align: right;\">\n",
              "      <th></th>\n",
              "      <th>Url</th>\n",
              "      <th>Zestimate</th>\n",
              "      <th>Price</th>\n",
              "      <th>Rent Zestimate</th>\n",
              "      <th>Days On Zillow</th>\n",
              "      <th>Bathrooms</th>\n",
              "      <th>Bedrooms</th>\n",
              "      <th>Living Area</th>\n",
              "      <th>Lot Size</th>\n",
              "      <th>Home Type</th>\n",
              "      <th>Street Address</th>\n",
              "      <th>City</th>\n",
              "      <th>Zip</th>\n",
              "      <th>State</th>\n",
              "      <th>Country</th>\n",
              "      <th>Broker Name</th>\n",
              "      <th>Has 3D Model</th>\n",
              "      <th>Has Image</th>\n",
              "      <th>Has Video</th>\n",
              "      <th>isZillowOwned</th>\n",
              "      <th>sgapt</th>\n",
              "      <th>statusText</th>\n",
              "      <th>statusType</th>\n",
              "    </tr>\n",
              "  </thead>\n",
              "  <tbody>\n",
              "    <tr>\n",
              "      <th>0</th>\n",
              "      <td>https://www.zillow.com/homedetails/238-Kenbroo...</td>\n",
              "      <td>625700.0</td>\n",
              "      <td>655000</td>\n",
              "      <td>2849.0</td>\n",
              "      <td>Not specified</td>\n",
              "      <td>2.0</td>\n",
              "      <td>3.0</td>\n",
              "      <td>1164.0</td>\n",
              "      <td>NaN</td>\n",
              "      <td>CONDO</td>\n",
              "      <td>238 Kenbrook Cir</td>\n",
              "      <td>San Jose</td>\n",
              "      <td>95111</td>\n",
              "      <td>CA</td>\n",
              "      <td>USA</td>\n",
              "      <td>NaN</td>\n",
              "      <td>False</td>\n",
              "      <td>True</td>\n",
              "      <td>False</td>\n",
              "      <td>False</td>\n",
              "      <td>Unknown Listed By</td>\n",
              "      <td>Sold</td>\n",
              "      <td>SOLD</td>\n",
              "    </tr>\n",
              "    <tr>\n",
              "      <th>1</th>\n",
              "      <td>https://www.zillow.com/homedetails/473-Toyon-A...</td>\n",
              "      <td>920100.0</td>\n",
              "      <td>920000</td>\n",
              "      <td>3499.0</td>\n",
              "      <td>Not specified</td>\n",
              "      <td>2.0</td>\n",
              "      <td>3.0</td>\n",
              "      <td>1287.0</td>\n",
              "      <td>NaN</td>\n",
              "      <td>SINGLE_FAMILY</td>\n",
              "      <td>473 Toyon Ave</td>\n",
              "      <td>San Jose</td>\n",
              "      <td>95127</td>\n",
              "      <td>CA</td>\n",
              "      <td>USA</td>\n",
              "      <td>NaN</td>\n",
              "      <td>False</td>\n",
              "      <td>True</td>\n",
              "      <td>False</td>\n",
              "      <td>False</td>\n",
              "      <td>Unknown Listed By</td>\n",
              "      <td>Sold</td>\n",
              "      <td>SOLD</td>\n",
              "    </tr>\n",
              "    <tr>\n",
              "      <th>2</th>\n",
              "      <td>https://www.zillow.com/homedetails/6424-Nepo-C...</td>\n",
              "      <td>1451600.0</td>\n",
              "      <td>1420000</td>\n",
              "      <td>3959.0</td>\n",
              "      <td>Not specified</td>\n",
              "      <td>2.0</td>\n",
              "      <td>4.0</td>\n",
              "      <td>1958.0</td>\n",
              "      <td>NaN</td>\n",
              "      <td>SINGLE_FAMILY</td>\n",
              "      <td>6424 Nepo Ct</td>\n",
              "      <td>San Jose</td>\n",
              "      <td>95119</td>\n",
              "      <td>CA</td>\n",
              "      <td>USA</td>\n",
              "      <td>NaN</td>\n",
              "      <td>False</td>\n",
              "      <td>True</td>\n",
              "      <td>False</td>\n",
              "      <td>False</td>\n",
              "      <td>Unknown Listed By</td>\n",
              "      <td>Sold</td>\n",
              "      <td>SOLD</td>\n",
              "    </tr>\n",
              "    <tr>\n",
              "      <th>3</th>\n",
              "      <td>https://www.zillow.com/homedetails/5887-Paddon...</td>\n",
              "      <td>1379100.0</td>\n",
              "      <td>1379000</td>\n",
              "      <td>3697.0</td>\n",
              "      <td>Not specified</td>\n",
              "      <td>2.0</td>\n",
              "      <td>3.0</td>\n",
              "      <td>1675.0</td>\n",
              "      <td>NaN</td>\n",
              "      <td>SINGLE_FAMILY</td>\n",
              "      <td>5887 Paddon Cir</td>\n",
              "      <td>San Jose</td>\n",
              "      <td>95123</td>\n",
              "      <td>CA</td>\n",
              "      <td>USA</td>\n",
              "      <td>NaN</td>\n",
              "      <td>False</td>\n",
              "      <td>True</td>\n",
              "      <td>False</td>\n",
              "      <td>False</td>\n",
              "      <td>Unknown Listed By</td>\n",
              "      <td>Sold</td>\n",
              "      <td>SOLD</td>\n",
              "    </tr>\n",
              "    <tr>\n",
              "      <th>4</th>\n",
              "      <td>https://www.zillow.com/homedetails/443-Mignot-...</td>\n",
              "      <td>896800.0</td>\n",
              "      <td>900000</td>\n",
              "      <td>3820.0</td>\n",
              "      <td>Not specified</td>\n",
              "      <td>3.0</td>\n",
              "      <td>5.0</td>\n",
              "      <td>1617.0</td>\n",
              "      <td>NaN</td>\n",
              "      <td>SINGLE_FAMILY</td>\n",
              "      <td>443 Mignot Ln</td>\n",
              "      <td>San Jose</td>\n",
              "      <td>95111</td>\n",
              "      <td>CA</td>\n",
              "      <td>USA</td>\n",
              "      <td>NaN</td>\n",
              "      <td>False</td>\n",
              "      <td>True</td>\n",
              "      <td>False</td>\n",
              "      <td>False</td>\n",
              "      <td>Unknown Listed By</td>\n",
              "      <td>Sold</td>\n",
              "      <td>SOLD</td>\n",
              "    </tr>\n",
              "    <tr>\n",
              "      <th>5</th>\n",
              "      <td>https://www.zillow.com/homedetails/307-Tradewi...</td>\n",
              "      <td>552000.0</td>\n",
              "      <td>552000</td>\n",
              "      <td>2385.0</td>\n",
              "      <td>Not specified</td>\n",
              "      <td>2.0</td>\n",
              "      <td>2.0</td>\n",
              "      <td>992.0</td>\n",
              "      <td>NaN</td>\n",
              "      <td>CONDO</td>\n",
              "      <td>307 Tradewinds Dr APT 9</td>\n",
              "      <td>San Jose</td>\n",
              "      <td>95123</td>\n",
              "      <td>CA</td>\n",
              "      <td>USA</td>\n",
              "      <td>NaN</td>\n",
              "      <td>False</td>\n",
              "      <td>True</td>\n",
              "      <td>False</td>\n",
              "      <td>False</td>\n",
              "      <td>Unknown Listed By</td>\n",
              "      <td>Sold</td>\n",
              "      <td>SOLD</td>\n",
              "    </tr>\n",
              "    <tr>\n",
              "      <th>6</th>\n",
              "      <td>https://www.zillow.com/homedetails/461-N-15th-...</td>\n",
              "      <td>1108000.0</td>\n",
              "      <td>1150000</td>\n",
              "      <td>3200.0</td>\n",
              "      <td>Not specified</td>\n",
              "      <td>2.0</td>\n",
              "      <td>2.0</td>\n",
              "      <td>1428.0</td>\n",
              "      <td>NaN</td>\n",
              "      <td>SINGLE_FAMILY</td>\n",
              "      <td>461 N 15th St</td>\n",
              "      <td>San Jose</td>\n",
              "      <td>95112</td>\n",
              "      <td>CA</td>\n",
              "      <td>USA</td>\n",
              "      <td>NaN</td>\n",
              "      <td>False</td>\n",
              "      <td>True</td>\n",
              "      <td>False</td>\n",
              "      <td>False</td>\n",
              "      <td>Unknown Listed By</td>\n",
              "      <td>Sold</td>\n",
              "      <td>SOLD</td>\n",
              "    </tr>\n",
              "    <tr>\n",
              "      <th>7</th>\n",
              "      <td>https://www.zillow.com/homedetails/470-Nolden-...</td>\n",
              "      <td>2144400.0</td>\n",
              "      <td>2030000</td>\n",
              "      <td>4857.0</td>\n",
              "      <td>Not specified</td>\n",
              "      <td>4.0</td>\n",
              "      <td>5.0</td>\n",
              "      <td>2204.0</td>\n",
              "      <td>NaN</td>\n",
              "      <td>SINGLE_FAMILY</td>\n",
              "      <td>470 Nolden Ave</td>\n",
              "      <td>San Jose</td>\n",
              "      <td>95117</td>\n",
              "      <td>CA</td>\n",
              "      <td>USA</td>\n",
              "      <td>NaN</td>\n",
              "      <td>False</td>\n",
              "      <td>True</td>\n",
              "      <td>False</td>\n",
              "      <td>False</td>\n",
              "      <td>Unknown Listed By</td>\n",
              "      <td>Sold</td>\n",
              "      <td>SOLD</td>\n",
              "    </tr>\n",
              "    <tr>\n",
              "      <th>8</th>\n",
              "      <td>https://www.zillow.com/homedetails/5604-Makati...</td>\n",
              "      <td>675100.0</td>\n",
              "      <td>675000</td>\n",
              "      <td>2840.0</td>\n",
              "      <td>Not specified</td>\n",
              "      <td>2.0</td>\n",
              "      <td>2.0</td>\n",
              "      <td>1233.0</td>\n",
              "      <td>NaN</td>\n",
              "      <td>CONDO</td>\n",
              "      <td>5604 Makati Cir</td>\n",
              "      <td>San Jose</td>\n",
              "      <td>95123</td>\n",
              "      <td>CA</td>\n",
              "      <td>USA</td>\n",
              "      <td>NaN</td>\n",
              "      <td>False</td>\n",
              "      <td>True</td>\n",
              "      <td>False</td>\n",
              "      <td>False</td>\n",
              "      <td>Unknown Listed By</td>\n",
              "      <td>Sold</td>\n",
              "      <td>SOLD</td>\n",
              "    </tr>\n",
              "    <tr>\n",
              "      <th>9</th>\n",
              "      <td>https://www.zillow.com/homedetails/2573-Island...</td>\n",
              "      <td>1115500.0</td>\n",
              "      <td>1114000</td>\n",
              "      <td>3399.0</td>\n",
              "      <td>Not specified</td>\n",
              "      <td>3.0</td>\n",
              "      <td>3.0</td>\n",
              "      <td>1406.0</td>\n",
              "      <td>NaN</td>\n",
              "      <td>SINGLE_FAMILY</td>\n",
              "      <td>2573 Island Palm Ct</td>\n",
              "      <td>San Jose</td>\n",
              "      <td>95133</td>\n",
              "      <td>CA</td>\n",
              "      <td>USA</td>\n",
              "      <td>NaN</td>\n",
              "      <td>False</td>\n",
              "      <td>True</td>\n",
              "      <td>False</td>\n",
              "      <td>False</td>\n",
              "      <td>Unknown Listed By</td>\n",
              "      <td>Sold</td>\n",
              "      <td>SOLD</td>\n",
              "    </tr>\n",
              "  </tbody>\n",
              "</table>\n",
              "</div>"
            ],
            "text/plain": [
              "                                                 Url  ...  statusType\n",
              "0  https://www.zillow.com/homedetails/238-Kenbroo...  ...        SOLD\n",
              "1  https://www.zillow.com/homedetails/473-Toyon-A...  ...        SOLD\n",
              "2  https://www.zillow.com/homedetails/6424-Nepo-C...  ...        SOLD\n",
              "3  https://www.zillow.com/homedetails/5887-Paddon...  ...        SOLD\n",
              "4  https://www.zillow.com/homedetails/443-Mignot-...  ...        SOLD\n",
              "5  https://www.zillow.com/homedetails/307-Tradewi...  ...        SOLD\n",
              "6  https://www.zillow.com/homedetails/461-N-15th-...  ...        SOLD\n",
              "7  https://www.zillow.com/homedetails/470-Nolden-...  ...        SOLD\n",
              "8  https://www.zillow.com/homedetails/5604-Makati...  ...        SOLD\n",
              "9  https://www.zillow.com/homedetails/2573-Island...  ...        SOLD\n",
              "\n",
              "[10 rows x 23 columns]"
            ]
          },
          "metadata": {},
          "execution_count": 73
        }
      ]
    },
    {
      "cell_type": "code",
      "source": [
        "house_data.statusType.unique()"
      ],
      "metadata": {
        "colab": {
          "base_uri": "https://localhost:8080/"
        },
        "id": "LIb5ZRjLLrZS",
        "outputId": "0d56287b-cafe-4c6f-8fd0-142342adc18b"
      },
      "execution_count": null,
      "outputs": [
        {
          "output_type": "execute_result",
          "data": {
            "text/plain": [
              "array(['SOLD', 'FOR_RENT', 'FOR_SALE'], dtype=object)"
            ]
          },
          "metadata": {},
          "execution_count": 74
        }
      ]
    },
    {
      "cell_type": "code",
      "source": [
        "house_data.isnull().sum()"
      ],
      "metadata": {
        "colab": {
          "base_uri": "https://localhost:8080/"
        },
        "id": "vQkqIKoWU4or",
        "outputId": "a051a28d-6980-4632-ca23-484506689ef3"
      },
      "execution_count": null,
      "outputs": [
        {
          "output_type": "execute_result",
          "data": {
            "text/plain": [
              "Url                 0\n",
              "Zestimate          98\n",
              "Price               0\n",
              "Rent Zestimate     16\n",
              "Days On Zillow      0\n",
              "Bathrooms          26\n",
              "Bedrooms           27\n",
              "Living Area        13\n",
              "Lot Size          399\n",
              "Home Type           0\n",
              "Street Address      0\n",
              "City                0\n",
              "Zip                 0\n",
              "State               0\n",
              "Country             0\n",
              "Broker Name       393\n",
              "Has 3D Model        0\n",
              "Has Image          26\n",
              "Has Video           0\n",
              "isZillowOwned       0\n",
              "sgapt               0\n",
              "statusText          0\n",
              "statusType          0\n",
              "dtype: int64"
            ]
          },
          "metadata": {},
          "execution_count": 75
        }
      ]
    },
    {
      "cell_type": "code",
      "source": [
        "house_data[\"statusType\"].unique()"
      ],
      "metadata": {
        "colab": {
          "base_uri": "https://localhost:8080/"
        },
        "id": "VD3nStwEXjrT",
        "outputId": "1e70fa39-2f71-4340-95ff-c7471f581e20"
      },
      "execution_count": null,
      "outputs": [
        {
          "output_type": "execute_result",
          "data": {
            "text/plain": [
              "array(['SOLD', 'FOR_RENT', 'FOR_SALE'], dtype=object)"
            ]
          },
          "metadata": {},
          "execution_count": 76
        }
      ]
    },
    {
      "cell_type": "code",
      "source": [
        "house_data = house_data.drop(['Broker Name','Lot Size', 'Url', 'Has 3D Model', 'Has Image', 'Has Video', 'sgapt', 'Lot Size', 'City', 'State', 'Country', 'isZillowOwned', 'statusText'],axis=1)"
      ],
      "metadata": {
        "id": "o4jfyPtwU9MY"
      },
      "execution_count": null,
      "outputs": []
    },
    {
      "cell_type": "code",
      "source": [
        "corr=house_data.corr()\n",
        "\n",
        "plt.figure(figsize=(10,10))\n",
        "sns.heatmap(corr, annot=True, linewidths=.5,  cmap='coolwarm')"
      ],
      "metadata": {
        "colab": {
          "base_uri": "https://localhost:8080/"
        },
        "id": "WSeD6erqYYxN",
        "outputId": "11af9d4b-f3f8-4bac-cd7d-14e3d704f43b"
      },
      "execution_count": null,
      "outputs": [
        {
          "output_type": "execute_result",
          "data": {
            "text/plain": [
              "<matplotlib.axes._subplots.AxesSubplot at 0x7fcee46be950>"
            ]
          },
          "metadata": {},
          "execution_count": 78
        },
        {
          "output_type": "display_data",
          "data": {
            "image/png": "[encoded data removed]",
            "text/plain": [
              "<Figure size 720x720 with 2 Axes>"
            ]
          },
          "metadata": {}
        }
      ]
    },
    {
      "cell_type": "code",
      "source": [
        "house_data_num = house_data.select_dtypes(include = ['float64', 'int64'])\n",
        "house_data_num.head()"
      ],
      "metadata": {
        "colab": {
          "base_uri": "https://localhost:8080/"
        },
        "id": "I6nBzv30Yvuy",
        "outputId": "c48d5031-af19-4706-8caf-0be3baf7acb8"
      },
      "execution_count": null,
      "outputs": [
        {
          "output_type": "execute_result",
          "data": {
            "text/html": [
              "<div>\n",
              "<style scoped>\n",
              "    .dataframe tbody tr th:only-of-type {\n",
              "        vertical-align: middle;\n",
              "    }\n",
              "\n",
              "    .dataframe tbody tr th {\n",
              "        vertical-align: top;\n",
              "    }\n",
              "\n",
              "    .dataframe thead th {\n",
              "        text-align: right;\n",
              "    }\n",
              "</style>\n",
              "<table border=\"1\" class=\"dataframe\">\n",
              "  <thead>\n",
              "    <tr style=\"text-align: right;\">\n",
              "      <th></th>\n",
              "      <th>Zestimate</th>\n",
              "      <th>Price</th>\n",
              "      <th>Rent Zestimate</th>\n",
              "      <th>Bathrooms</th>\n",
              "      <th>Bedrooms</th>\n",
              "      <th>Living Area</th>\n",
              "      <th>Zip</th>\n",
              "    </tr>\n",
              "  </thead>\n",
              "  <tbody>\n",
              "    <tr>\n",
              "      <th>0</th>\n",
              "      <td>625700.0</td>\n",
              "      <td>655000</td>\n",
              "      <td>2849.0</td>\n",
              "      <td>2.0</td>\n",
              "      <td>3.0</td>\n",
              "      <td>1164.0</td>\n",
              "      <td>95111</td>\n",
              "    </tr>\n",
              "    <tr>\n",
              "      <th>1</th>\n",
              "      <td>920100.0</td>\n",
              "      <td>920000</td>\n",
              "      <td>3499.0</td>\n",
              "      <td>2.0</td>\n",
              "      <td>3.0</td>\n",
              "      <td>1287.0</td>\n",
              "      <td>95127</td>\n",
              "    </tr>\n",
              "    <tr>\n",
              "      <th>2</th>\n",
              "      <td>1451600.0</td>\n",
              "      <td>1420000</td>\n",
              "      <td>3959.0</td>\n",
              "      <td>2.0</td>\n",
              "      <td>4.0</td>\n",
              "      <td>1958.0</td>\n",
              "      <td>95119</td>\n",
              "    </tr>\n",
              "    <tr>\n",
              "      <th>3</th>\n",
              "      <td>1379100.0</td>\n",
              "      <td>1379000</td>\n",
              "      <td>3697.0</td>\n",
              "      <td>2.0</td>\n",
              "      <td>3.0</td>\n",
              "      <td>1675.0</td>\n",
              "      <td>95123</td>\n",
              "    </tr>\n",
              "    <tr>\n",
              "      <th>4</th>\n",
              "      <td>896800.0</td>\n",
              "      <td>900000</td>\n",
              "      <td>3820.0</td>\n",
              "      <td>3.0</td>\n",
              "      <td>5.0</td>\n",
              "      <td>1617.0</td>\n",
              "      <td>95111</td>\n",
              "    </tr>\n",
              "  </tbody>\n",
              "</table>\n",
              "</div>"
            ],
            "text/plain": [
              "   Zestimate    Price  Rent Zestimate  Bathrooms  Bedrooms  Living Area    Zip\n",
              "0   625700.0   655000          2849.0        2.0       3.0       1164.0  95111\n",
              "1   920100.0   920000          3499.0        2.0       3.0       1287.0  95127\n",
              "2  1451600.0  1420000          3959.0        2.0       4.0       1958.0  95119\n",
              "3  1379100.0  1379000          3697.0        2.0       3.0       1675.0  95123\n",
              "4   896800.0   900000          3820.0        3.0       5.0       1617.0  95111"
            ]
          },
          "metadata": {},
          "execution_count": 79
        }
      ]
    },
    {
      "cell_type": "code",
      "source": [
        "house_data_num.hist(figsize=(10,10), bins=50, xlabelsize=8, ylabelsize=8);"
      ],
      "metadata": {
        "colab": {
          "base_uri": "https://localhost:8080/"
        },
        "id": "w-sCOFrYZDH2",
        "outputId": "94add8a9-03f3-445d-ab2a-4bbad04b5bc1"
      },
      "execution_count": null,
      "outputs": [
        {
          "output_type": "display_data",
          "data": {
            "image/png": "[encoded data removed]",
            "text/plain": [
              "<Figure size 720x720 with 9 Axes>"
            ]
          },
          "metadata": {}
        }
      ]
    },
    {
      "cell_type": "code",
      "source": [
        "#mortgage and HOA calculation\n",
        "downpayment = house_data.Zestimate * 0.2\n",
        "loanAmount = house_data.Zestimate-downpayment\n",
        "interest = loanAmount *.03\n",
        "loanAmount = loanAmount+interest\n",
        "mortgage_calculated = loanAmount/30 \n",
        "house_data['Mortgage']=mortgage_calculated\n",
        "\n",
        "hoa = np.random.randint(350, 550, size=house_data.shape[0])\n",
        "house_data['HOA']=hoa\n",
        "house_data.head()"
      ],
      "metadata": {
        "colab": {
          "base_uri": "https://localhost:8080/"
        },
        "id": "OR05rccfZciY",
        "outputId": "753c095e-4586-45e5-d2c1-0ba8f53be9be"
      },
      "execution_count": null,
      "outputs": [
        {
          "output_type": "execute_result",
          "data": {
            "text/html": [
              "<div>\n",
              "<style scoped>\n",
              "    .dataframe tbody tr th:only-of-type {\n",
              "        vertical-align: middle;\n",
              "    }\n",
              "\n",
              "    .dataframe tbody tr th {\n",
              "        vertical-align: top;\n",
              "    }\n",
              "\n",
              "    .dataframe thead th {\n",
              "        text-align: right;\n",
              "    }\n",
              "</style>\n",
              "<table border=\"1\" class=\"dataframe\">\n",
              "  <thead>\n",
              "    <tr style=\"text-align: right;\">\n",
              "      <th></th>\n",
              "      <th>Zestimate</th>\n",
              "      <th>Price</th>\n",
              "      <th>Rent Zestimate</th>\n",
              "      <th>Days On Zillow</th>\n",
              "      <th>Bathrooms</th>\n",
              "      <th>Bedrooms</th>\n",
              "      <th>Living Area</th>\n",
              "      <th>Home Type</th>\n",
              "      <th>Street Address</th>\n",
              "      <th>Zip</th>\n",
              "      <th>statusType</th>\n",
              "      <th>Mortgage</th>\n",
              "      <th>HOA</th>\n",
              "    </tr>\n",
              "  </thead>\n",
              "  <tbody>\n",
              "    <tr>\n",
              "      <th>0</th>\n",
              "      <td>625700.0</td>\n",
              "      <td>655000</td>\n",
              "      <td>2849.0</td>\n",
              "      <td>Not specified</td>\n",
              "      <td>2.0</td>\n",
              "      <td>3.0</td>\n",
              "      <td>1164.0</td>\n",
              "      <td>CONDO</td>\n",
              "      <td>238 Kenbrook Cir</td>\n",
              "      <td>95111</td>\n",
              "      <td>SOLD</td>\n",
              "      <td>17185.893333</td>\n",
              "      <td>395</td>\n",
              "    </tr>\n",
              "    <tr>\n",
              "      <th>1</th>\n",
              "      <td>920100.0</td>\n",
              "      <td>920000</td>\n",
              "      <td>3499.0</td>\n",
              "      <td>Not specified</td>\n",
              "      <td>2.0</td>\n",
              "      <td>3.0</td>\n",
              "      <td>1287.0</td>\n",
              "      <td>SINGLE_FAMILY</td>\n",
              "      <td>473 Toyon Ave</td>\n",
              "      <td>95127</td>\n",
              "      <td>SOLD</td>\n",
              "      <td>25272.080000</td>\n",
              "      <td>500</td>\n",
              "    </tr>\n",
              "    <tr>\n",
              "      <th>2</th>\n",
              "      <td>1451600.0</td>\n",
              "      <td>1420000</td>\n",
              "      <td>3959.0</td>\n",
              "      <td>Not specified</td>\n",
              "      <td>2.0</td>\n",
              "      <td>4.0</td>\n",
              "      <td>1958.0</td>\n",
              "      <td>SINGLE_FAMILY</td>\n",
              "      <td>6424 Nepo Ct</td>\n",
              "      <td>95119</td>\n",
              "      <td>SOLD</td>\n",
              "      <td>39870.613333</td>\n",
              "      <td>431</td>\n",
              "    </tr>\n",
              "    <tr>\n",
              "      <th>3</th>\n",
              "      <td>1379100.0</td>\n",
              "      <td>1379000</td>\n",
              "      <td>3697.0</td>\n",
              "      <td>Not specified</td>\n",
              "      <td>2.0</td>\n",
              "      <td>3.0</td>\n",
              "      <td>1675.0</td>\n",
              "      <td>SINGLE_FAMILY</td>\n",
              "      <td>5887 Paddon Cir</td>\n",
              "      <td>95123</td>\n",
              "      <td>SOLD</td>\n",
              "      <td>37879.280000</td>\n",
              "      <td>491</td>\n",
              "    </tr>\n",
              "    <tr>\n",
              "      <th>4</th>\n",
              "      <td>896800.0</td>\n",
              "      <td>900000</td>\n",
              "      <td>3820.0</td>\n",
              "      <td>Not specified</td>\n",
              "      <td>3.0</td>\n",
              "      <td>5.0</td>\n",
              "      <td>1617.0</td>\n",
              "      <td>SINGLE_FAMILY</td>\n",
              "      <td>443 Mignot Ln</td>\n",
              "      <td>95111</td>\n",
              "      <td>SOLD</td>\n",
              "      <td>24632.106667</td>\n",
              "      <td>540</td>\n",
              "    </tr>\n",
              "  </tbody>\n",
              "</table>\n",
              "</div>"
            ],
            "text/plain": [
              "   Zestimate    Price  Rent Zestimate  ... statusType      Mortgage  HOA\n",
              "0   625700.0   655000          2849.0  ...       SOLD  17185.893333  395\n",
              "1   920100.0   920000          3499.0  ...       SOLD  25272.080000  500\n",
              "2  1451600.0  1420000          3959.0  ...       SOLD  39870.613333  431\n",
              "3  1379100.0  1379000          3697.0  ...       SOLD  37879.280000  491\n",
              "4   896800.0   900000          3820.0  ...       SOLD  24632.106667  540\n",
              "\n",
              "[5 rows x 13 columns]"
            ]
          },
          "metadata": {},
          "execution_count": 81
        }
      ]
    },
    {
      "cell_type": "code",
      "source": [
        ""
      ],
      "metadata": {
        "id": "aAdKF5t1aBbx"
      },
      "execution_count": null,
      "outputs": []
    },
    {
      "cell_type": "markdown",
      "source": [
        "## Scrape crime index data"
      ],
      "metadata": {
        "id": "MySRD57Ylqs9"
      }
    },
    {
      "cell_type": "code",
      "source": [
        "\n",
        "Zip_code =[]\n",
        "Violent_Crime =[]\n",
        "Property_Crime =[]\n",
        "def getCrimeIndex(zipcode):\n",
        "  url = \"https://www.bestplaces.net/crime/zip-code/california/san_jose/\"\n",
        "  s=[]\n",
        "  for i in range(0,len(zipcode)):\n",
        "    s.append(url+str(zipcode[i]))\n",
        "\n",
        "  for i in range(0,len(s)):\n",
        "    r = requests.get(s[i],verify=False)  \n",
        "    soup = BeautifulSoup(r.content, 'html5lib')\n",
        "    c = soup.find(text='Crime is ranked on a scale of 1 (low crime) to 100 (high crime)')\n",
        "    Zip_code.append(zipcode[i])\n",
        "    if (c is None):\n",
        "      Violent_Crime.append(\"0\")\n",
        "      Property_Crime.append(\"0\")\n",
        "    if not (c is None):\n",
        "      d = c.find_next(\"h5\").text\n",
        "      d = d.split(\". \")[0]\n",
        "      Violent_Crime.append(d[-4:-2])\n",
        "      e = c.find_next(\"h5\").find_next(\"h5\").text\n",
        "      e = e.split(\". \")[0]\n",
        "      Property_Crime.append(e[-4:-2])\n",
        "\n"
      ],
      "metadata": {
        "id": "gLu08h55cGgo"
      },
      "execution_count": null,
      "outputs": []
    },
    {
      "cell_type": "code",
      "source": [
        "getCrimeIndex(house_data['Zip'])"
      ],
      "metadata": {
        "id": "4jaFd-AQdl1v"
      },
      "execution_count": null,
      "outputs": []
    },
    {
      "cell_type": "code",
      "source": [
        "crime_index_df = pd.DataFrame()\n",
        "crime_index_df['Zip_code'] = Zip_code\n",
        "crime_index_df['Violent_crime'] = Violent_Crime\n",
        "crime_index_df['Property_Crime'] = Property_Crime\n",
        "\n",
        "house_data = pd.concat([house_data, crime_index_df], axis=1, join=\"inner\")\n",
        "house_data.head()"
      ],
      "metadata": {
        "colab": {
          "base_uri": "https://localhost:8080/",
          "height": 399
        },
        "id": "hLyBRntWhFOy",
        "outputId": "07a6f225-2248-48c3-b042-9191e2b30b6f"
      },
      "execution_count": null,
      "outputs": [
        {
          "output_type": "execute_result",
          "data": {
            "text/html": [
              "<div>\n",
              "<style scoped>\n",
              "    .dataframe tbody tr th:only-of-type {\n",
              "        vertical-align: middle;\n",
              "    }\n",
              "\n",
              "    .dataframe tbody tr th {\n",
              "        vertical-align: top;\n",
              "    }\n",
              "\n",
              "    .dataframe thead th {\n",
              "        text-align: right;\n",
              "    }\n",
              "</style>\n",
              "<table border=\"1\" class=\"dataframe\">\n",
              "  <thead>\n",
              "    <tr style=\"text-align: right;\">\n",
              "      <th></th>\n",
              "      <th>Zestimate</th>\n",
              "      <th>Price</th>\n",
              "      <th>Rent Zestimate</th>\n",
              "      <th>Days On Zillow</th>\n",
              "      <th>Bathrooms</th>\n",
              "      <th>Bedrooms</th>\n",
              "      <th>Living Area</th>\n",
              "      <th>Home Type</th>\n",
              "      <th>Street Address</th>\n",
              "      <th>Zip</th>\n",
              "      <th>statusType</th>\n",
              "      <th>Mortgage</th>\n",
              "      <th>HOA</th>\n",
              "      <th>Zip_code</th>\n",
              "      <th>Violent_crime</th>\n",
              "      <th>Property_Crime</th>\n",
              "    </tr>\n",
              "  </thead>\n",
              "  <tbody>\n",
              "    <tr>\n",
              "      <th>0</th>\n",
              "      <td>625700.0</td>\n",
              "      <td>655000</td>\n",
              "      <td>2849.0</td>\n",
              "      <td>Not specified</td>\n",
              "      <td>2.0</td>\n",
              "      <td>3.0</td>\n",
              "      <td>1164.0</td>\n",
              "      <td>CONDO</td>\n",
              "      <td>238 Kenbrook Cir</td>\n",
              "      <td>95111</td>\n",
              "      <td>SOLD</td>\n",
              "      <td>17185.893333</td>\n",
              "      <td>518</td>\n",
              "      <td>95111</td>\n",
              "      <td>33</td>\n",
              "      <td>44</td>\n",
              "    </tr>\n",
              "    <tr>\n",
              "      <th>1</th>\n",
              "      <td>920100.0</td>\n",
              "      <td>920000</td>\n",
              "      <td>3499.0</td>\n",
              "      <td>Not specified</td>\n",
              "      <td>2.0</td>\n",
              "      <td>3.0</td>\n",
              "      <td>1287.0</td>\n",
              "      <td>SINGLE_FAMILY</td>\n",
              "      <td>473 Toyon Ave</td>\n",
              "      <td>95127</td>\n",
              "      <td>SOLD</td>\n",
              "      <td>25272.080000</td>\n",
              "      <td>503</td>\n",
              "      <td>95127</td>\n",
              "      <td>26</td>\n",
              "      <td>38</td>\n",
              "    </tr>\n",
              "    <tr>\n",
              "      <th>2</th>\n",
              "      <td>1451600.0</td>\n",
              "      <td>1420000</td>\n",
              "      <td>3959.0</td>\n",
              "      <td>Not specified</td>\n",
              "      <td>2.0</td>\n",
              "      <td>4.0</td>\n",
              "      <td>1958.0</td>\n",
              "      <td>SINGLE_FAMILY</td>\n",
              "      <td>6424 Nepo Ct</td>\n",
              "      <td>95119</td>\n",
              "      <td>SOLD</td>\n",
              "      <td>39870.613333</td>\n",
              "      <td>360</td>\n",
              "      <td>95119</td>\n",
              "      <td>20</td>\n",
              "      <td>29</td>\n",
              "    </tr>\n",
              "    <tr>\n",
              "      <th>3</th>\n",
              "      <td>1379100.0</td>\n",
              "      <td>1379000</td>\n",
              "      <td>3697.0</td>\n",
              "      <td>Not specified</td>\n",
              "      <td>2.0</td>\n",
              "      <td>3.0</td>\n",
              "      <td>1675.0</td>\n",
              "      <td>SINGLE_FAMILY</td>\n",
              "      <td>5887 Paddon Cir</td>\n",
              "      <td>95123</td>\n",
              "      <td>SOLD</td>\n",
              "      <td>37879.280000</td>\n",
              "      <td>535</td>\n",
              "      <td>95123</td>\n",
              "      <td>22</td>\n",
              "      <td>32</td>\n",
              "    </tr>\n",
              "    <tr>\n",
              "      <th>4</th>\n",
              "      <td>896800.0</td>\n",
              "      <td>900000</td>\n",
              "      <td>3820.0</td>\n",
              "      <td>Not specified</td>\n",
              "      <td>3.0</td>\n",
              "      <td>5.0</td>\n",
              "      <td>1617.0</td>\n",
              "      <td>SINGLE_FAMILY</td>\n",
              "      <td>443 Mignot Ln</td>\n",
              "      <td>95111</td>\n",
              "      <td>SOLD</td>\n",
              "      <td>24632.106667</td>\n",
              "      <td>375</td>\n",
              "      <td>95112</td>\n",
              "      <td>43</td>\n",
              "      <td>54</td>\n",
              "    </tr>\n",
              "  </tbody>\n",
              "</table>\n",
              "</div>"
            ],
            "text/plain": [
              "   Zestimate    Price  Rent Zestimate  ... Zip_code  Violent_crime  Property_Crime\n",
              "0   625700.0   655000          2849.0  ...    95111             33              44\n",
              "1   920100.0   920000          3499.0  ...    95127             26              38\n",
              "2  1451600.0  1420000          3959.0  ...    95119             20              29\n",
              "3  1379100.0  1379000          3697.0  ...    95123             22              32\n",
              "4   896800.0   900000          3820.0  ...    95112             43              54\n",
              "\n",
              "[5 rows x 16 columns]"
            ]
          },
          "metadata": {},
          "execution_count": 51
        }
      ]
    },
    {
      "cell_type": "code",
      "source": [
        "house_data.to_csv('/content/gdrive/Shareddrives/DM_Datasets/house_data_with_crime_index.csv')"
      ],
      "metadata": {
        "id": "dTa4NW7FgA53"
      },
      "execution_count": null,
      "outputs": []
    },
    {
      "cell_type": "code",
      "source": [
        "house_data = pd.read_csv('/content/gdrive/Shareddrives/DM_Datasets/house_data_with_crime_index.csv')\n",
        "house_data"
      ],
      "metadata": {
        "colab": {
          "base_uri": "https://localhost:8080/",
          "height": 808
        },
        "id": "ug8jQSmJkIeC",
        "outputId": "792ffcf6-3c60-45f6-d4b0-2cf0471c1ce1"
      },
      "execution_count": null,
      "outputs": [
        {
          "output_type": "execute_result",
          "data": {
            "text/html": [
              "<div>\n",
              "<style scoped>\n",
              "    .dataframe tbody tr th:only-of-type {\n",
              "        vertical-align: middle;\n",
              "    }\n",
              "\n",
              "    .dataframe tbody tr th {\n",
              "        vertical-align: top;\n",
              "    }\n",
              "\n",
              "    .dataframe thead th {\n",
              "        text-align: right;\n",
              "    }\n",
              "</style>\n",
              "<table border=\"1\" class=\"dataframe\">\n",
              "  <thead>\n",
              "    <tr style=\"text-align: right;\">\n",
              "      <th></th>\n",
              "      <th>Unnamed: 0</th>\n",
              "      <th>Zestimate</th>\n",
              "      <th>Price</th>\n",
              "      <th>Rent Zestimate</th>\n",
              "      <th>Days On Zillow</th>\n",
              "      <th>Bathrooms</th>\n",
              "      <th>Bedrooms</th>\n",
              "      <th>Living Area</th>\n",
              "      <th>Home Type</th>\n",
              "      <th>Street Address</th>\n",
              "      <th>Zip</th>\n",
              "      <th>statusType</th>\n",
              "      <th>Mortgage</th>\n",
              "      <th>HOA</th>\n",
              "    </tr>\n",
              "  </thead>\n",
              "  <tbody>\n",
              "    <tr>\n",
              "      <th>0</th>\n",
              "      <td>0</td>\n",
              "      <td>625700.0</td>\n",
              "      <td>655000</td>\n",
              "      <td>2849.0</td>\n",
              "      <td>Not specified</td>\n",
              "      <td>2.0</td>\n",
              "      <td>3.0</td>\n",
              "      <td>1164.0</td>\n",
              "      <td>CONDO</td>\n",
              "      <td>238 Kenbrook Cir</td>\n",
              "      <td>95111</td>\n",
              "      <td>SOLD</td>\n",
              "      <td>17185.893333</td>\n",
              "      <td>365</td>\n",
              "    </tr>\n",
              "    <tr>\n",
              "      <th>1</th>\n",
              "      <td>1</td>\n",
              "      <td>920100.0</td>\n",
              "      <td>920000</td>\n",
              "      <td>3499.0</td>\n",
              "      <td>Not specified</td>\n",
              "      <td>2.0</td>\n",
              "      <td>3.0</td>\n",
              "      <td>1287.0</td>\n",
              "      <td>SINGLE_FAMILY</td>\n",
              "      <td>473 Toyon Ave</td>\n",
              "      <td>95127</td>\n",
              "      <td>SOLD</td>\n",
              "      <td>25272.080000</td>\n",
              "      <td>446</td>\n",
              "    </tr>\n",
              "    <tr>\n",
              "      <th>2</th>\n",
              "      <td>2</td>\n",
              "      <td>1451600.0</td>\n",
              "      <td>1420000</td>\n",
              "      <td>3959.0</td>\n",
              "      <td>Not specified</td>\n",
              "      <td>2.0</td>\n",
              "      <td>4.0</td>\n",
              "      <td>1958.0</td>\n",
              "      <td>SINGLE_FAMILY</td>\n",
              "      <td>6424 Nepo Ct</td>\n",
              "      <td>95119</td>\n",
              "      <td>SOLD</td>\n",
              "      <td>39870.613333</td>\n",
              "      <td>486</td>\n",
              "    </tr>\n",
              "    <tr>\n",
              "      <th>3</th>\n",
              "      <td>3</td>\n",
              "      <td>1379100.0</td>\n",
              "      <td>1379000</td>\n",
              "      <td>3697.0</td>\n",
              "      <td>Not specified</td>\n",
              "      <td>2.0</td>\n",
              "      <td>3.0</td>\n",
              "      <td>1675.0</td>\n",
              "      <td>SINGLE_FAMILY</td>\n",
              "      <td>5887 Paddon Cir</td>\n",
              "      <td>95123</td>\n",
              "      <td>SOLD</td>\n",
              "      <td>37879.280000</td>\n",
              "      <td>380</td>\n",
              "    </tr>\n",
              "    <tr>\n",
              "      <th>4</th>\n",
              "      <td>4</td>\n",
              "      <td>896800.0</td>\n",
              "      <td>900000</td>\n",
              "      <td>3820.0</td>\n",
              "      <td>Not specified</td>\n",
              "      <td>3.0</td>\n",
              "      <td>5.0</td>\n",
              "      <td>1617.0</td>\n",
              "      <td>SINGLE_FAMILY</td>\n",
              "      <td>443 Mignot Ln</td>\n",
              "      <td>95111</td>\n",
              "      <td>SOLD</td>\n",
              "      <td>24632.106667</td>\n",
              "      <td>420</td>\n",
              "    </tr>\n",
              "    <tr>\n",
              "      <th>...</th>\n",
              "      <td>...</td>\n",
              "      <td>...</td>\n",
              "      <td>...</td>\n",
              "      <td>...</td>\n",
              "      <td>...</td>\n",
              "      <td>...</td>\n",
              "      <td>...</td>\n",
              "      <td>...</td>\n",
              "      <td>...</td>\n",
              "      <td>...</td>\n",
              "      <td>...</td>\n",
              "      <td>...</td>\n",
              "      <td>...</td>\n",
              "      <td>...</td>\n",
              "    </tr>\n",
              "    <tr>\n",
              "      <th>394</th>\n",
              "      <td>394</td>\n",
              "      <td>713300.0</td>\n",
              "      <td>699000</td>\n",
              "      <td>2749.0</td>\n",
              "      <td>46</td>\n",
              "      <td>1.0</td>\n",
              "      <td>1.0</td>\n",
              "      <td>953.0</td>\n",
              "      <td>CONDO</td>\n",
              "      <td>38 N Almaden Blvd UNIT 516</td>\n",
              "      <td>95110</td>\n",
              "      <td>FOR_SALE</td>\n",
              "      <td>19591.973333</td>\n",
              "      <td>472</td>\n",
              "    </tr>\n",
              "    <tr>\n",
              "      <th>395</th>\n",
              "      <td>395</td>\n",
              "      <td>NaN</td>\n",
              "      <td>2250000</td>\n",
              "      <td>2100.0</td>\n",
              "      <td>46</td>\n",
              "      <td>NaN</td>\n",
              "      <td>NaN</td>\n",
              "      <td>3825.0</td>\n",
              "      <td>MULTI_FAMILY</td>\n",
              "      <td>466 N 13th St</td>\n",
              "      <td>95112</td>\n",
              "      <td>FOR_SALE</td>\n",
              "      <td>NaN</td>\n",
              "      <td>447</td>\n",
              "    </tr>\n",
              "    <tr>\n",
              "      <th>396</th>\n",
              "      <td>396</td>\n",
              "      <td>2414030.0</td>\n",
              "      <td>2395000</td>\n",
              "      <td>1694.0</td>\n",
              "      <td>46</td>\n",
              "      <td>NaN</td>\n",
              "      <td>NaN</td>\n",
              "      <td>4088.0</td>\n",
              "      <td>MULTI_FAMILY</td>\n",
              "      <td>530 N 2nd St</td>\n",
              "      <td>95112</td>\n",
              "      <td>FOR_SALE</td>\n",
              "      <td>66305.357333</td>\n",
              "      <td>402</td>\n",
              "    </tr>\n",
              "    <tr>\n",
              "      <th>397</th>\n",
              "      <td>397</td>\n",
              "      <td>512800.0</td>\n",
              "      <td>509000</td>\n",
              "      <td>2777.0</td>\n",
              "      <td>48</td>\n",
              "      <td>1.0</td>\n",
              "      <td>0.0</td>\n",
              "      <td>519.0</td>\n",
              "      <td>CONDO</td>\n",
              "      <td>188 W Saint James St #10317</td>\n",
              "      <td>95110</td>\n",
              "      <td>FOR_SALE</td>\n",
              "      <td>14084.906667</td>\n",
              "      <td>547</td>\n",
              "    </tr>\n",
              "    <tr>\n",
              "      <th>398</th>\n",
              "      <td>398</td>\n",
              "      <td>796800.0</td>\n",
              "      <td>779000</td>\n",
              "      <td>2746.0</td>\n",
              "      <td>50</td>\n",
              "      <td>1.0</td>\n",
              "      <td>1.0</td>\n",
              "      <td>819.0</td>\n",
              "      <td>CONDO</td>\n",
              "      <td>188 W Saint James St #10605</td>\n",
              "      <td>95110</td>\n",
              "      <td>FOR_SALE</td>\n",
              "      <td>21885.440000</td>\n",
              "      <td>468</td>\n",
              "    </tr>\n",
              "  </tbody>\n",
              "</table>\n",
              "<p>399 rows × 14 columns</p>\n",
              "</div>"
            ],
            "text/plain": [
              "     Unnamed: 0  Zestimate    Price  ...  statusType      Mortgage  HOA\n",
              "0             0   625700.0   655000  ...        SOLD  17185.893333  365\n",
              "1             1   920100.0   920000  ...        SOLD  25272.080000  446\n",
              "2             2  1451600.0  1420000  ...        SOLD  39870.613333  486\n",
              "3             3  1379100.0  1379000  ...        SOLD  37879.280000  380\n",
              "4             4   896800.0   900000  ...        SOLD  24632.106667  420\n",
              "..          ...        ...      ...  ...         ...           ...  ...\n",
              "394         394   713300.0   699000  ...    FOR_SALE  19591.973333  472\n",
              "395         395        NaN  2250000  ...    FOR_SALE           NaN  447\n",
              "396         396  2414030.0  2395000  ...    FOR_SALE  66305.357333  402\n",
              "397         397   512800.0   509000  ...    FOR_SALE  14084.906667  547\n",
              "398         398   796800.0   779000  ...    FOR_SALE  21885.440000  468\n",
              "\n",
              "[399 rows x 14 columns]"
            ]
          },
          "metadata": {},
          "execution_count": 82
        }
      ]
    },
    {
      "cell_type": "markdown",
      "source": [
        "## scrape school data "
      ],
      "metadata": {
        "id": "isTJPk3ykKXe"
      }
    },
    {
      "cell_type": "code",
      "source": [
        "quality=[]\n",
        "commute_time=[]\n",
        "free_lunch=[]\n",
        "total_schools=[]\n",
        "def getSchoolData(zipcodes):\n",
        "  url = \"https://www.zipdatamaps.com/\"\n",
        "  s=[]\n",
        "  for i in range(0,len(zipcodes)):\n",
        "    s.append(url+str(zipcodes[i]))\n",
        "\n",
        " \n",
        "\n",
        "  for i in range(0,len(s)):\n",
        "    r = requests.get(s[i])  \n",
        "    soup = BeautifulSoup(r.content, 'html5lib')\n",
        "    c = soup.find(text='School Test Performance:')\n",
        "    d = soup.find(text='Average Commute Time')\n",
        "    e = soup.find(text='Percentage of Students Eligible For')  \n",
        "    f = soup.find(text='Percentage of Public Schools with')\n",
        "    # x.append(zipcodes[i])\n",
        "    if (c is None):\n",
        "      quality.append(\"0\")\n",
        "      commute_time.append(\"0\")\n",
        "      free_lunch.append(\"0\")\n",
        "      total_schools.append(\"0\")\n",
        "    if not (c is None):\n",
        "      quality.append(c.find_next(\"td\").text)\n",
        "      commute_time.append(d.find_next(\"td\").text.replace(\"Minutes\", \"\"))\n",
        "      free_lunch.append(e.find_next(\"td\").text.replace(\"%\", \"\"))\n",
        "      total_schools.append(f.find_next(\"td\").text.replace(\"%\", \"\"))"
      ],
      "metadata": {
        "id": "DD1LWx5MkMTT"
      },
      "execution_count": null,
      "outputs": []
    },
    {
      "cell_type": "code",
      "source": [
        "getSchoolData(house_data['Zip'])"
      ],
      "metadata": {
        "id": "qbC7cmc4nhbP"
      },
      "execution_count": null,
      "outputs": []
    },
    {
      "cell_type": "code",
      "source": [
        "school_data_df = pd.DataFrame()\n",
        "school_data_df['quality'] = quality\n",
        "school_data_df['commute_time'] = commute_time\n",
        "school_data_df['free_lunch'] = free_lunch\n",
        "school_data_df['total_schools'] = total_schools\n",
        "\n",
        "house_data = pd.concat([house_data, school_data_df], axis=1, join=\"inner\")\n",
        "house_data.head()\n"
      ],
      "metadata": {
        "id": "2eCGWcPmnzFM"
      },
      "execution_count": null,
      "outputs": []
    },
    {
      "cell_type": "code",
      "source": [
        "house_data.to_csv('/content/gdrive/Shareddrives/DM_Datasets/house_data_with_school_data.csv')"
      ],
      "metadata": {
        "id": "rrQb9iXWobbq"
      },
      "execution_count": null,
      "outputs": []
    },
    {
      "cell_type": "code",
      "source": [
        "house_data  = pd.read_csv('/content/gdrive/Shareddrives/DM_Datasets/house_data_with_school_data.csv')"
      ],
      "metadata": {
        "id": "0OJmPKaMpTj6"
      },
      "execution_count": null,
      "outputs": []
    },
    {
      "cell_type": "code",
      "source": [
        "house_data.update(house_data['free_lunch'].fillna(value=house_data['free_lunch'].mean(), inplace=True))\n",
        "house_data.head(5)"
      ],
      "metadata": {
        "colab": {
          "base_uri": "https://localhost:8080/",
          "height": 400
        },
        "id": "EI7CDoQOosSy",
        "outputId": "baf6e3bc-d973-4a4e-9a35-06a4018f650b"
      },
      "execution_count": null,
      "outputs": [
        {
          "output_type": "execute_result",
          "data": {
            "text/html": [
              "<div>\n",
              "<style scoped>\n",
              "    .dataframe tbody tr th:only-of-type {\n",
              "        vertical-align: middle;\n",
              "    }\n",
              "\n",
              "    .dataframe tbody tr th {\n",
              "        vertical-align: top;\n",
              "    }\n",
              "\n",
              "    .dataframe thead th {\n",
              "        text-align: right;\n",
              "    }\n",
              "</style>\n",
              "<table border=\"1\" class=\"dataframe\">\n",
              "  <thead>\n",
              "    <tr style=\"text-align: right;\">\n",
              "      <th></th>\n",
              "      <th>Unnamed: 0</th>\n",
              "      <th>Zestimate</th>\n",
              "      <th>Price</th>\n",
              "      <th>Rent Zestimate</th>\n",
              "      <th>Days On Zillow</th>\n",
              "      <th>Bathrooms</th>\n",
              "      <th>Bedrooms</th>\n",
              "      <th>Living Area</th>\n",
              "      <th>Home Type</th>\n",
              "      <th>Street Address</th>\n",
              "      <th>Zip</th>\n",
              "      <th>statusType</th>\n",
              "      <th>Mortgage</th>\n",
              "      <th>HOA</th>\n",
              "      <th>Zip_code</th>\n",
              "      <th>Violent_crime</th>\n",
              "      <th>Property_Crime</th>\n",
              "      <th>quality</th>\n",
              "      <th>commute_time</th>\n",
              "      <th>free_lunch</th>\n",
              "      <th>total_schools</th>\n",
              "    </tr>\n",
              "  </thead>\n",
              "  <tbody>\n",
              "    <tr>\n",
              "      <th>0</th>\n",
              "      <td>0</td>\n",
              "      <td>625700.0</td>\n",
              "      <td>655000</td>\n",
              "      <td>2849.0</td>\n",
              "      <td>Not specified</td>\n",
              "      <td>2.0</td>\n",
              "      <td>3.0</td>\n",
              "      <td>1164.0</td>\n",
              "      <td>CONDO</td>\n",
              "      <td>238 Kenbrook Cir</td>\n",
              "      <td>95111</td>\n",
              "      <td>SOLD</td>\n",
              "      <td>17185.893333</td>\n",
              "      <td>518</td>\n",
              "      <td>95111</td>\n",
              "      <td>33</td>\n",
              "      <td>44</td>\n",
              "      <td>Average</td>\n",
              "      <td>27.1</td>\n",
              "      <td>74.6</td>\n",
              "      <td>100.0</td>\n",
              "    </tr>\n",
              "    <tr>\n",
              "      <th>1</th>\n",
              "      <td>1</td>\n",
              "      <td>920100.0</td>\n",
              "      <td>920000</td>\n",
              "      <td>3499.0</td>\n",
              "      <td>Not specified</td>\n",
              "      <td>2.0</td>\n",
              "      <td>3.0</td>\n",
              "      <td>1287.0</td>\n",
              "      <td>SINGLE_FAMILY</td>\n",
              "      <td>473 Toyon Ave</td>\n",
              "      <td>95127</td>\n",
              "      <td>SOLD</td>\n",
              "      <td>25272.080000</td>\n",
              "      <td>503</td>\n",
              "      <td>95127</td>\n",
              "      <td>26</td>\n",
              "      <td>38</td>\n",
              "      <td>Below Average</td>\n",
              "      <td>26.1</td>\n",
              "      <td>66.1</td>\n",
              "      <td>93.8</td>\n",
              "    </tr>\n",
              "    <tr>\n",
              "      <th>2</th>\n",
              "      <td>2</td>\n",
              "      <td>1451600.0</td>\n",
              "      <td>1420000</td>\n",
              "      <td>3959.0</td>\n",
              "      <td>Not specified</td>\n",
              "      <td>2.0</td>\n",
              "      <td>4.0</td>\n",
              "      <td>1958.0</td>\n",
              "      <td>SINGLE_FAMILY</td>\n",
              "      <td>6424 Nepo Ct</td>\n",
              "      <td>95119</td>\n",
              "      <td>SOLD</td>\n",
              "      <td>39870.613333</td>\n",
              "      <td>360</td>\n",
              "      <td>95119</td>\n",
              "      <td>20</td>\n",
              "      <td>29</td>\n",
              "      <td>Average</td>\n",
              "      <td>27.1</td>\n",
              "      <td>34.0</td>\n",
              "      <td>33.3</td>\n",
              "    </tr>\n",
              "    <tr>\n",
              "      <th>3</th>\n",
              "      <td>3</td>\n",
              "      <td>1379100.0</td>\n",
              "      <td>1379000</td>\n",
              "      <td>3697.0</td>\n",
              "      <td>Not specified</td>\n",
              "      <td>2.0</td>\n",
              "      <td>3.0</td>\n",
              "      <td>1675.0</td>\n",
              "      <td>SINGLE_FAMILY</td>\n",
              "      <td>5887 Paddon Cir</td>\n",
              "      <td>95123</td>\n",
              "      <td>SOLD</td>\n",
              "      <td>37879.280000</td>\n",
              "      <td>535</td>\n",
              "      <td>95123</td>\n",
              "      <td>22</td>\n",
              "      <td>32</td>\n",
              "      <td>Average</td>\n",
              "      <td>27.6</td>\n",
              "      <td>37.1</td>\n",
              "      <td>41.7</td>\n",
              "    </tr>\n",
              "    <tr>\n",
              "      <th>4</th>\n",
              "      <td>4</td>\n",
              "      <td>896800.0</td>\n",
              "      <td>900000</td>\n",
              "      <td>3820.0</td>\n",
              "      <td>Not specified</td>\n",
              "      <td>3.0</td>\n",
              "      <td>5.0</td>\n",
              "      <td>1617.0</td>\n",
              "      <td>SINGLE_FAMILY</td>\n",
              "      <td>443 Mignot Ln</td>\n",
              "      <td>95111</td>\n",
              "      <td>SOLD</td>\n",
              "      <td>24632.106667</td>\n",
              "      <td>375</td>\n",
              "      <td>95112</td>\n",
              "      <td>43</td>\n",
              "      <td>54</td>\n",
              "      <td>Average</td>\n",
              "      <td>27.1</td>\n",
              "      <td>74.6</td>\n",
              "      <td>100.0</td>\n",
              "    </tr>\n",
              "  </tbody>\n",
              "</table>\n",
              "</div>"
            ],
            "text/plain": [
              "   Unnamed: 0  Zestimate    Price  ...  commute_time free_lunch  total_schools\n",
              "0           0   625700.0   655000  ...          27.1       74.6          100.0\n",
              "1           1   920100.0   920000  ...          26.1       66.1           93.8\n",
              "2           2  1451600.0  1420000  ...          27.1       34.0           33.3\n",
              "3           3  1379100.0  1379000  ...          27.6       37.1           41.7\n",
              "4           4   896800.0   900000  ...          27.1       74.6          100.0\n",
              "\n",
              "[5 rows x 21 columns]"
            ]
          },
          "metadata": {},
          "execution_count": 84
        }
      ]
    },
    {
      "cell_type": "code",
      "source": [
        "house_data.update(house_data['total_schools'].fillna(value=house_data['total_schools'].mean(), inplace=True))"
      ],
      "metadata": {
        "id": "33n1n-RUqmkL"
      },
      "execution_count": null,
      "outputs": []
    },
    {
      "cell_type": "code",
      "source": [
        "house_data.to_csv('/content/gdrive/Shareddrives/DM_Datasets/final_house_data.csv')"
      ],
      "metadata": {
        "id": "33y5WB7jrg7r"
      },
      "execution_count": null,
      "outputs": []
    },
    {
      "cell_type": "markdown",
      "source": [
        "## Final Housing Data"
      ],
      "metadata": {
        "id": "Q3Hv4AXDirwE"
      }
    },
    {
      "cell_type": "code",
      "source": [
        "import pandas as pd\n",
        "\n",
        "house_data = pd.read_csv('/content/gdrive/Shareddrives/DM_Datasets/final_house_data.csv')"
      ],
      "metadata": {
        "id": "JjtdXD69iXo-"
      },
      "execution_count": null,
      "outputs": []
    },
    {
      "cell_type": "code",
      "source": [
        "final_house_data = house_data.copy()\n",
        "final_house_data.head(3)"
      ],
      "metadata": {
        "colab": {
          "base_uri": "https://localhost:8080/",
          "height": 267
        },
        "id": "xxCqPgnDqzi4",
        "outputId": "ea00255d-21df-4caf-dfa9-245c314aae0a"
      },
      "execution_count": null,
      "outputs": [
        {
          "output_type": "execute_result",
          "data": {
            "text/html": [
              "<div>\n",
              "<style scoped>\n",
              "    .dataframe tbody tr th:only-of-type {\n",
              "        vertical-align: middle;\n",
              "    }\n",
              "\n",
              "    .dataframe tbody tr th {\n",
              "        vertical-align: top;\n",
              "    }\n",
              "\n",
              "    .dataframe thead th {\n",
              "        text-align: right;\n",
              "    }\n",
              "</style>\n",
              "<table border=\"1\" class=\"dataframe\">\n",
              "  <thead>\n",
              "    <tr style=\"text-align: right;\">\n",
              "      <th></th>\n",
              "      <th>Unnamed: 0</th>\n",
              "      <th>Unnamed: 0.1</th>\n",
              "      <th>Zestimate</th>\n",
              "      <th>Price</th>\n",
              "      <th>Rent Zestimate</th>\n",
              "      <th>Days On Zillow</th>\n",
              "      <th>Bathrooms</th>\n",
              "      <th>Bedrooms</th>\n",
              "      <th>Living Area</th>\n",
              "      <th>Home Type</th>\n",
              "      <th>Street Address</th>\n",
              "      <th>Zip</th>\n",
              "      <th>statusType</th>\n",
              "      <th>Mortgage</th>\n",
              "      <th>HOA</th>\n",
              "      <th>Zip_code</th>\n",
              "      <th>Violent_crime</th>\n",
              "      <th>Property_Crime</th>\n",
              "      <th>quality</th>\n",
              "      <th>commute_time</th>\n",
              "      <th>free_lunch</th>\n",
              "      <th>total_schools</th>\n",
              "    </tr>\n",
              "  </thead>\n",
              "  <tbody>\n",
              "    <tr>\n",
              "      <th>0</th>\n",
              "      <td>0</td>\n",
              "      <td>0</td>\n",
              "      <td>625700.0</td>\n",
              "      <td>655000</td>\n",
              "      <td>2849.0</td>\n",
              "      <td>Not specified</td>\n",
              "      <td>2.0</td>\n",
              "      <td>3.0</td>\n",
              "      <td>1164.0</td>\n",
              "      <td>CONDO</td>\n",
              "      <td>238 Kenbrook Cir</td>\n",
              "      <td>95111</td>\n",
              "      <td>SOLD</td>\n",
              "      <td>17185.893333</td>\n",
              "      <td>518</td>\n",
              "      <td>95111</td>\n",
              "      <td>33</td>\n",
              "      <td>44</td>\n",
              "      <td>Average</td>\n",
              "      <td>27.1</td>\n",
              "      <td>74.6</td>\n",
              "      <td>100.0</td>\n",
              "    </tr>\n",
              "    <tr>\n",
              "      <th>1</th>\n",
              "      <td>1</td>\n",
              "      <td>1</td>\n",
              "      <td>920100.0</td>\n",
              "      <td>920000</td>\n",
              "      <td>3499.0</td>\n",
              "      <td>Not specified</td>\n",
              "      <td>2.0</td>\n",
              "      <td>3.0</td>\n",
              "      <td>1287.0</td>\n",
              "      <td>SINGLE_FAMILY</td>\n",
              "      <td>473 Toyon Ave</td>\n",
              "      <td>95127</td>\n",
              "      <td>SOLD</td>\n",
              "      <td>25272.080000</td>\n",
              "      <td>503</td>\n",
              "      <td>95127</td>\n",
              "      <td>26</td>\n",
              "      <td>38</td>\n",
              "      <td>Below Average</td>\n",
              "      <td>26.1</td>\n",
              "      <td>66.1</td>\n",
              "      <td>93.8</td>\n",
              "    </tr>\n",
              "    <tr>\n",
              "      <th>2</th>\n",
              "      <td>2</td>\n",
              "      <td>2</td>\n",
              "      <td>1451600.0</td>\n",
              "      <td>1420000</td>\n",
              "      <td>3959.0</td>\n",
              "      <td>Not specified</td>\n",
              "      <td>2.0</td>\n",
              "      <td>4.0</td>\n",
              "      <td>1958.0</td>\n",
              "      <td>SINGLE_FAMILY</td>\n",
              "      <td>6424 Nepo Ct</td>\n",
              "      <td>95119</td>\n",
              "      <td>SOLD</td>\n",
              "      <td>39870.613333</td>\n",
              "      <td>360</td>\n",
              "      <td>95119</td>\n",
              "      <td>20</td>\n",
              "      <td>29</td>\n",
              "      <td>Average</td>\n",
              "      <td>27.1</td>\n",
              "      <td>34.0</td>\n",
              "      <td>33.3</td>\n",
              "    </tr>\n",
              "  </tbody>\n",
              "</table>\n",
              "</div>"
            ],
            "text/plain": [
              "   Unnamed: 0  Unnamed: 0.1  Zestimate  ...  commute_time  free_lunch total_schools\n",
              "0           0             0   625700.0  ...          27.1        74.6         100.0\n",
              "1           1             1   920100.0  ...          26.1        66.1          93.8\n",
              "2           2             2  1451600.0  ...          27.1        34.0          33.3\n",
              "\n",
              "[3 rows x 22 columns]"
            ]
          },
          "metadata": {},
          "execution_count": 88
        }
      ]
    },
    {
      "cell_type": "code",
      "source": [
        "final_house_data.hist(figsize=(12,12), bins=50, xlabelsize=8, ylabelsize=8);"
      ],
      "metadata": {
        "colab": {
          "base_uri": "https://localhost:8080/",
          "height": 721
        },
        "id": "Pwf5aP_ltATy",
        "outputId": "ba4b5d77-7d15-42f4-c224-8c767760ce12"
      },
      "execution_count": null,
      "outputs": [
        {
          "output_type": "display_data",
          "data": {
            "image/png": "[encoded data removed]",
            "text/plain": [
              "<Figure size 864x864 with 20 Axes>"
            ]
          },
          "metadata": {}
        }
      ]
    },
    {
      "cell_type": "code",
      "source": [
        "house_data_corr = final_house_data.corr()['Price'][:-1] \n",
        "golden_features_list = house_data_corr[abs(house_data_corr) > 0.5].sort_values(ascending=False)\n",
        "print(\"There is {} strongly correlated values with ListPrice:\\n{}\".format(len(golden_features_list), golden_features_list))"
      ],
      "metadata": {
        "colab": {
          "base_uri": "https://localhost:8080/"
        },
        "id": "vgDNmLbXjnks",
        "outputId": "906487b7-4b5e-47ad-f3dc-0734cf4ff106"
      },
      "execution_count": null,
      "outputs": [
        {
          "output_type": "stream",
          "name": "stdout",
          "text": [
            "There is 6 strongly correlated values with ListPrice:\n",
            "Price          1.000000\n",
            "Mortgage       0.792220\n",
            "Zestimate      0.792220\n",
            "Bathrooms      0.548103\n",
            "Living Area    0.520574\n",
            "Bedrooms       0.518930\n",
            "Name: Price, dtype: float64\n"
          ]
        }
      ]
    },
    {
      "cell_type": "code",
      "source": [
        "for i in range(0, len(final_house_data.columns), 5):\n",
        "    sns.pairplot(data=final_house_data,\n",
        "                x_vars=final_house_data.columns[i:i+5],\n",
        "                y_vars=['Price'])"
      ],
      "metadata": {
        "colab": {
          "base_uri": "https://localhost:8080/",
          "height": 907
        },
        "id": "eUguLh26tzUi",
        "outputId": "70829d87-0f8f-4e1f-875f-59d62edd3821"
      },
      "execution_count": null,
      "outputs": [
        {
          "output_type": "display_data",
          "data": {
            "image/png": "[encoded data removed]",
            "text/plain": [
              "<Figure size 900x180 with 6 Axes>"
            ]
          },
          "metadata": {}
        },
        {
          "output_type": "display_data",
          "data": {
            "image/png": "[encoded data removed]",
            "text/plain": [
              "<Figure size 900x180 with 5 Axes>"
            ]
          },
          "metadata": {}
        },
        {
          "output_type": "display_data",
          "data": {
            "image/png": "[encoded data removed]",
            "text/plain": [
              "<Figure size 900x180 with 5 Axes>"
            ]
          },
          "metadata": {}
        },
        {
          "output_type": "display_data",
          "data": {
            "image/png": "[encoded data removed]",
            "text/plain": [
              "<Figure size 900x180 with 5 Axes>"
            ]
          },
          "metadata": {}
        },
        {
          "output_type": "display_data",
          "data": {
            "image/png": "[encoded data removed]",
            "text/plain": [
              "<Figure size 360x180 with 2 Axes>"
            ]
          },
          "metadata": {}
        }
      ]
    },
    {
      "cell_type": "code",
      "source": [
        "df_quantitative_values = final_house_data\n",
        "df_quantitative_values.head()"
      ],
      "metadata": {
        "colab": {
          "base_uri": "https://localhost:8080/",
          "height": 400
        },
        "id": "wO7nkV87uKyc",
        "outputId": "59c425a2-c3e6-453c-d64b-2a6fc7839e82"
      },
      "execution_count": null,
      "outputs": [
        {
          "output_type": "execute_result",
          "data": {
            "text/html": [
              "<div>\n",
              "<style scoped>\n",
              "    .dataframe tbody tr th:only-of-type {\n",
              "        vertical-align: middle;\n",
              "    }\n",
              "\n",
              "    .dataframe tbody tr th {\n",
              "        vertical-align: top;\n",
              "    }\n",
              "\n",
              "    .dataframe thead th {\n",
              "        text-align: right;\n",
              "    }\n",
              "</style>\n",
              "<table border=\"1\" class=\"dataframe\">\n",
              "  <thead>\n",
              "    <tr style=\"text-align: right;\">\n",
              "      <th></th>\n",
              "      <th>Unnamed: 0</th>\n",
              "      <th>Unnamed: 0.1</th>\n",
              "      <th>Zestimate</th>\n",
              "      <th>Price</th>\n",
              "      <th>Rent Zestimate</th>\n",
              "      <th>Days On Zillow</th>\n",
              "      <th>Bathrooms</th>\n",
              "      <th>Bedrooms</th>\n",
              "      <th>Living Area</th>\n",
              "      <th>Home Type</th>\n",
              "      <th>Street Address</th>\n",
              "      <th>Zip</th>\n",
              "      <th>statusType</th>\n",
              "      <th>Mortgage</th>\n",
              "      <th>HOA</th>\n",
              "      <th>Zip_code</th>\n",
              "      <th>Violent_crime</th>\n",
              "      <th>Property_Crime</th>\n",
              "      <th>quality</th>\n",
              "      <th>commute_time</th>\n",
              "      <th>free_lunch</th>\n",
              "      <th>total_schools</th>\n",
              "    </tr>\n",
              "  </thead>\n",
              "  <tbody>\n",
              "    <tr>\n",
              "      <th>0</th>\n",
              "      <td>0</td>\n",
              "      <td>0</td>\n",
              "      <td>625700.0</td>\n",
              "      <td>655000</td>\n",
              "      <td>2849.0</td>\n",
              "      <td>Not specified</td>\n",
              "      <td>2.0</td>\n",
              "      <td>3.0</td>\n",
              "      <td>1164.0</td>\n",
              "      <td>CONDO</td>\n",
              "      <td>238 Kenbrook Cir</td>\n",
              "      <td>95111</td>\n",
              "      <td>SOLD</td>\n",
              "      <td>17185.893333</td>\n",
              "      <td>518</td>\n",
              "      <td>95111</td>\n",
              "      <td>33</td>\n",
              "      <td>44</td>\n",
              "      <td>Average</td>\n",
              "      <td>27.1</td>\n",
              "      <td>74.6</td>\n",
              "      <td>100.0</td>\n",
              "    </tr>\n",
              "    <tr>\n",
              "      <th>1</th>\n",
              "      <td>1</td>\n",
              "      <td>1</td>\n",
              "      <td>920100.0</td>\n",
              "      <td>920000</td>\n",
              "      <td>3499.0</td>\n",
              "      <td>Not specified</td>\n",
              "      <td>2.0</td>\n",
              "      <td>3.0</td>\n",
              "      <td>1287.0</td>\n",
              "      <td>SINGLE_FAMILY</td>\n",
              "      <td>473 Toyon Ave</td>\n",
              "      <td>95127</td>\n",
              "      <td>SOLD</td>\n",
              "      <td>25272.080000</td>\n",
              "      <td>503</td>\n",
              "      <td>95127</td>\n",
              "      <td>26</td>\n",
              "      <td>38</td>\n",
              "      <td>Below Average</td>\n",
              "      <td>26.1</td>\n",
              "      <td>66.1</td>\n",
              "      <td>93.8</td>\n",
              "    </tr>\n",
              "    <tr>\n",
              "      <th>2</th>\n",
              "      <td>2</td>\n",
              "      <td>2</td>\n",
              "      <td>1451600.0</td>\n",
              "      <td>1420000</td>\n",
              "      <td>3959.0</td>\n",
              "      <td>Not specified</td>\n",
              "      <td>2.0</td>\n",
              "      <td>4.0</td>\n",
              "      <td>1958.0</td>\n",
              "      <td>SINGLE_FAMILY</td>\n",
              "      <td>6424 Nepo Ct</td>\n",
              "      <td>95119</td>\n",
              "      <td>SOLD</td>\n",
              "      <td>39870.613333</td>\n",
              "      <td>360</td>\n",
              "      <td>95119</td>\n",
              "      <td>20</td>\n",
              "      <td>29</td>\n",
              "      <td>Average</td>\n",
              "      <td>27.1</td>\n",
              "      <td>34.0</td>\n",
              "      <td>33.3</td>\n",
              "    </tr>\n",
              "    <tr>\n",
              "      <th>3</th>\n",
              "      <td>3</td>\n",
              "      <td>3</td>\n",
              "      <td>1379100.0</td>\n",
              "      <td>1379000</td>\n",
              "      <td>3697.0</td>\n",
              "      <td>Not specified</td>\n",
              "      <td>2.0</td>\n",
              "      <td>3.0</td>\n",
              "      <td>1675.0</td>\n",
              "      <td>SINGLE_FAMILY</td>\n",
              "      <td>5887 Paddon Cir</td>\n",
              "      <td>95123</td>\n",
              "      <td>SOLD</td>\n",
              "      <td>37879.280000</td>\n",
              "      <td>535</td>\n",
              "      <td>95123</td>\n",
              "      <td>22</td>\n",
              "      <td>32</td>\n",
              "      <td>Average</td>\n",
              "      <td>27.6</td>\n",
              "      <td>37.1</td>\n",
              "      <td>41.7</td>\n",
              "    </tr>\n",
              "    <tr>\n",
              "      <th>4</th>\n",
              "      <td>4</td>\n",
              "      <td>4</td>\n",
              "      <td>896800.0</td>\n",
              "      <td>900000</td>\n",
              "      <td>3820.0</td>\n",
              "      <td>Not specified</td>\n",
              "      <td>3.0</td>\n",
              "      <td>5.0</td>\n",
              "      <td>1617.0</td>\n",
              "      <td>SINGLE_FAMILY</td>\n",
              "      <td>443 Mignot Ln</td>\n",
              "      <td>95111</td>\n",
              "      <td>SOLD</td>\n",
              "      <td>24632.106667</td>\n",
              "      <td>375</td>\n",
              "      <td>95112</td>\n",
              "      <td>43</td>\n",
              "      <td>54</td>\n",
              "      <td>Average</td>\n",
              "      <td>27.1</td>\n",
              "      <td>74.6</td>\n",
              "      <td>100.0</td>\n",
              "    </tr>\n",
              "  </tbody>\n",
              "</table>\n",
              "</div>"
            ],
            "text/plain": [
              "   Unnamed: 0  Unnamed: 0.1  Zestimate  ...  commute_time  free_lunch total_schools\n",
              "0           0             0   625700.0  ...          27.1        74.6         100.0\n",
              "1           1             1   920100.0  ...          26.1        66.1          93.8\n",
              "2           2             2  1451600.0  ...          27.1        34.0          33.3\n",
              "3           3             3  1379100.0  ...          27.6        37.1          41.7\n",
              "4           4             4   896800.0  ...          27.1        74.6         100.0\n",
              "\n",
              "[5 rows x 22 columns]"
            ]
          },
          "metadata": {},
          "execution_count": 92
        }
      ]
    },
    {
      "cell_type": "markdown",
      "source": [
        "**PCA segmentation for low,mid and high buyer affinity:**"
      ],
      "metadata": {
        "id": "Y5_dmdd4vshZ"
      }
    },
    {
      "cell_type": "code",
      "source": [
        "# range=final_house_data['Price'].max()-final_house_data['Price'].min()\n",
        "category=[]\n",
        "slab1=(final_house_data['Price'].max()-final_house_data['Price'].min())/3+final_house_data['Price'].min()\n",
        "slab2=(final_house_data['Price'].max()-final_house_data['Price'].min())*2/3+final_house_data['Price'].min()\n",
        "\n",
        "final_house_data['Segment'] = 'Low'\n",
        "final_house_data.loc[final_house_data['Price']>slab1,'Segment'] = 'Mid' \n",
        "final_house_data.loc[final_house_data['Price']>slab2,'Segment'] = 'High' "
      ],
      "metadata": {
        "id": "RnrdEpLkuQKO"
      },
      "execution_count": null,
      "outputs": []
    },
    {
      "cell_type": "code",
      "source": [
        "final_house_data.fillna(0.0,inplace=True)"
      ],
      "metadata": {
        "id": "2ZOJuSHJwtFT"
      },
      "execution_count": null,
      "outputs": []
    },
    {
      "cell_type": "code",
      "source": [
        "from google.colab import drive\n",
        "drive.mount('/content/drive')"
      ],
      "metadata": {
        "colab": {
          "base_uri": "https://localhost:8080/"
        },
        "id": "wy-Cxki7h1qI",
        "outputId": "09888d7d-96cb-49bf-bdc5-be7d03d459ea"
      },
      "execution_count": null,
      "outputs": [
        {
          "output_type": "stream",
          "name": "stdout",
          "text": [
            "Mounted at /content/drive\n"
          ]
        }
      ]
    },
    {
      "cell_type": "code",
      "source": [
        "from sklearn.preprocessing import StandardScaler\n",
        "features = ['Rent Zestimate', 'Property_Crime', 'Violent_crime','commute_time','free_lunch','total_schools','Price']\n",
        "# Separating out the features\n",
        "x = final_house_data.loc[:, features].values\n",
        "# Separating out the target\n",
        "y = final_house_data.loc[:,['Segment']].values\n",
        "# Standardizing the features\n",
        "x = StandardScaler().fit_transform(x)"
      ],
      "metadata": {
        "id": "gnS7zLg_u-Bp"
      },
      "execution_count": null,
      "outputs": []
    },
    {
      "cell_type": "markdown",
      "source": [
        "### Dimensionality Reduction - PCA"
      ],
      "metadata": {
        "id": "P6NSC42r2WvP"
      }
    },
    {
      "cell_type": "code",
      "source": [
        "from sklearn.decomposition import PCA\n",
        "pca = PCA(n_components=2)\n",
        "principalComponents = pca.fit_transform(x)\n",
        "principalDf = pd.DataFrame(data = principalComponents\n",
        "             , columns = ['principal component 1', 'principal component 2'])"
      ],
      "metadata": {
        "id": "dfQf8-UrvxE3"
      },
      "execution_count": null,
      "outputs": []
    },
    {
      "cell_type": "code",
      "source": [
        "finalDf = pd.concat([principalDf, final_house_data[['Segment']]], axis = 1)\n",
        "finalDf"
      ],
      "metadata": {
        "colab": {
          "base_uri": "https://localhost:8080/",
          "height": 423
        },
        "id": "izQZMA2Uy2Za",
        "outputId": "09872018-3353-4c12-e151-b254622050ab"
      },
      "execution_count": null,
      "outputs": [
        {
          "output_type": "execute_result",
          "data": {
            "text/html": [
              "<div>\n",
              "<style scoped>\n",
              "    .dataframe tbody tr th:only-of-type {\n",
              "        vertical-align: middle;\n",
              "    }\n",
              "\n",
              "    .dataframe tbody tr th {\n",
              "        vertical-align: top;\n",
              "    }\n",
              "\n",
              "    .dataframe thead th {\n",
              "        text-align: right;\n",
              "    }\n",
              "</style>\n",
              "<table border=\"1\" class=\"dataframe\">\n",
              "  <thead>\n",
              "    <tr style=\"text-align: right;\">\n",
              "      <th></th>\n",
              "      <th>principal component 1</th>\n",
              "      <th>principal component 2</th>\n",
              "      <th>Segment</th>\n",
              "    </tr>\n",
              "  </thead>\n",
              "  <tbody>\n",
              "    <tr>\n",
              "      <th>0</th>\n",
              "      <td>0.895272</td>\n",
              "      <td>-0.538316</td>\n",
              "      <td>Low</td>\n",
              "    </tr>\n",
              "    <tr>\n",
              "      <th>1</th>\n",
              "      <td>1.829165</td>\n",
              "      <td>-0.918019</td>\n",
              "      <td>Low</td>\n",
              "    </tr>\n",
              "    <tr>\n",
              "      <th>2</th>\n",
              "      <td>5.143304</td>\n",
              "      <td>0.258154</td>\n",
              "      <td>Low</td>\n",
              "    </tr>\n",
              "    <tr>\n",
              "      <th>3</th>\n",
              "      <td>4.684493</td>\n",
              "      <td>0.320146</td>\n",
              "      <td>Low</td>\n",
              "    </tr>\n",
              "    <tr>\n",
              "      <th>4</th>\n",
              "      <td>0.167918</td>\n",
              "      <td>0.872593</td>\n",
              "      <td>Low</td>\n",
              "    </tr>\n",
              "    <tr>\n",
              "      <th>...</th>\n",
              "      <td>...</td>\n",
              "      <td>...</td>\n",
              "      <td>...</td>\n",
              "    </tr>\n",
              "    <tr>\n",
              "      <th>394</th>\n",
              "      <td>-1.280549</td>\n",
              "      <td>0.191428</td>\n",
              "      <td>Low</td>\n",
              "    </tr>\n",
              "    <tr>\n",
              "      <th>395</th>\n",
              "      <td>-1.113312</td>\n",
              "      <td>0.461035</td>\n",
              "      <td>Low</td>\n",
              "    </tr>\n",
              "    <tr>\n",
              "      <th>396</th>\n",
              "      <td>-1.185521</td>\n",
              "      <td>0.421582</td>\n",
              "      <td>Low</td>\n",
              "    </tr>\n",
              "    <tr>\n",
              "      <th>397</th>\n",
              "      <td>-1.243180</td>\n",
              "      <td>0.097567</td>\n",
              "      <td>Low</td>\n",
              "    </tr>\n",
              "    <tr>\n",
              "      <th>398</th>\n",
              "      <td>-1.227351</td>\n",
              "      <td>0.149731</td>\n",
              "      <td>Low</td>\n",
              "    </tr>\n",
              "  </tbody>\n",
              "</table>\n",
              "<p>399 rows × 3 columns</p>\n",
              "</div>"
            ],
            "text/plain": [
              "     principal component 1  principal component 2 Segment\n",
              "0                 0.895272              -0.538316     Low\n",
              "1                 1.829165              -0.918019     Low\n",
              "2                 5.143304               0.258154     Low\n",
              "3                 4.684493               0.320146     Low\n",
              "4                 0.167918               0.872593     Low\n",
              "..                     ...                    ...     ...\n",
              "394              -1.280549               0.191428     Low\n",
              "395              -1.113312               0.461035     Low\n",
              "396              -1.185521               0.421582     Low\n",
              "397              -1.243180               0.097567     Low\n",
              "398              -1.227351               0.149731     Low\n",
              "\n",
              "[399 rows x 3 columns]"
            ]
          },
          "metadata": {},
          "execution_count": 97
        }
      ]
    },
    {
      "cell_type": "code",
      "source": [
        "fig = plt.figure(figsize = (8,8))\n",
        "ax = fig.add_subplot(1,1,1) \n",
        "ax.set_xlabel('Principal Component 1', fontsize = 15)\n",
        "ax.set_ylabel('Principal Component 2', fontsize = 15)\n",
        "ax.set_title('2 component PCA', fontsize = 20)\n",
        "targets = ['Low', 'Mid', 'High']\n",
        "colors = ['r', 'g', 'b']\n",
        "for target, color in zip(targets,colors):\n",
        "    indicesToKeep = finalDf['Segment'] == target\n",
        "    ax.scatter(finalDf.loc[indicesToKeep, 'principal component 1']\n",
        "               , finalDf.loc[indicesToKeep, 'principal component 2']\n",
        "               , c = color\n",
        "               , s = 50)\n",
        "ax.legend(targets)\n",
        "ax.grid()"
      ],
      "metadata": {
        "colab": {
          "base_uri": "https://localhost:8080/",
          "height": 529
        },
        "id": "30uY9VWYy9qV",
        "outputId": "ca8fa0f0-2619-4421-8f22-90fa5cad36ae"
      },
      "execution_count": null,
      "outputs": [
        {
          "output_type": "display_data",
          "data": {
            "image/png": "[encoded data removed]",
            "text/plain": [
              "<Figure size 576x576 with 1 Axes>"
            ]
          },
          "metadata": {}
        }
      ]
    },
    {
      "cell_type": "code",
      "source": [
        "final_house_data['RentalIncome']=final_house_data['Rent Zestimate']-(final_house_data['Mortgage']+final_house_data['HOA'])"
      ],
      "metadata": {
        "id": "n4hxFZUazK3J"
      },
      "execution_count": null,
      "outputs": []
    },
    {
      "cell_type": "code",
      "source": [
        "final_house_data.info()\n",
        "apply_kmeans = final_house_data.iloc[:, [1,22]].values"
      ],
      "metadata": {
        "colab": {
          "base_uri": "https://localhost:8080/"
        },
        "id": "gtV1phY_0L06",
        "outputId": "ccd30799-322f-4011-c52d-830170eeaa08"
      },
      "execution_count": null,
      "outputs": [
        {
          "output_type": "stream",
          "name": "stdout",
          "text": [
            "<class 'pandas.core.frame.DataFrame'>\n",
            "RangeIndex: 399 entries, 0 to 398\n",
            "Data columns (total 24 columns):\n",
            " #   Column          Non-Null Count  Dtype  \n",
            "---  ------          --------------  -----  \n",
            " 0   Unnamed: 0      399 non-null    int64  \n",
            " 1   Unnamed: 0.1    399 non-null    int64  \n",
            " 2   Zestimate       399 non-null    float64\n",
            " 3   Price           399 non-null    int64  \n",
            " 4   Rent Zestimate  399 non-null    float64\n",
            " 5   Days On Zillow  399 non-null    object \n",
            " 6   Bathrooms       399 non-null    float64\n",
            " 7   Bedrooms        399 non-null    float64\n",
            " 8   Living Area     399 non-null    float64\n",
            " 9   Home Type       399 non-null    object \n",
            " 10  Street Address  399 non-null    object \n",
            " 11  Zip             399 non-null    int64  \n",
            " 12  statusType      399 non-null    object \n",
            " 13  Mortgage        399 non-null    float64\n",
            " 14  HOA             399 non-null    int64  \n",
            " 15  Zip_code        399 non-null    int64  \n",
            " 16  Violent_crime   399 non-null    int64  \n",
            " 17  Property_Crime  399 non-null    int64  \n",
            " 18  quality         399 non-null    object \n",
            " 19  commute_time    399 non-null    float64\n",
            " 20  free_lunch      399 non-null    float64\n",
            " 21  total_schools   399 non-null    float64\n",
            " 22  Segment         399 non-null    object \n",
            " 23  RentalIncome    399 non-null    float64\n",
            "dtypes: float64(10), int64(8), object(6)\n",
            "memory usage: 74.9+ KB\n"
          ]
        }
      ]
    },
    {
      "cell_type": "code",
      "source": [
        "errorRate = []\n",
        "\n",
        "for i in range(1, 20):\n",
        "    KM = KMeans(n_clusters=i)\n",
        "    KM.fit(apply_kmeans)\n",
        "    errorRate.append(KM.inertia_)\n",
        "    \n",
        "plt.figure(figsize=(7,6))\n",
        "plt.plot(range(1,20),errorRate,marker='o')"
      ],
      "metadata": {
        "id": "8zaUJE_v1Jo0"
      },
      "execution_count": null,
      "outputs": []
    },
    {
      "cell_type": "code",
      "source": [
        "from sklearn.mixture import GaussianMixture\n",
        "from sklearn import metrics\n",
        "data_new = final_house_data[['Price', 'RentalIncome']]"
      ],
      "metadata": {
        "id": "SW70g3Ck2f9j"
      },
      "execution_count": null,
      "outputs": []
    },
    {
      "cell_type": "code",
      "source": [
        "from sklearn.preprocessing import RobustScaler\n",
        "from sklearn.cluster import KMeans\n",
        "from sklearn import metrics\n",
        "def plot_cluster(df, max_loop=20):\n",
        "    try:\n",
        "        df.drop('cluster', axis=1, inplace=True)\n",
        "    except:\n",
        "        next\n",
        "    X = df.iloc[:,1:]\n",
        "    \n",
        "    rb = RobustScaler()\n",
        "    X_rb = rb.fit_transform(X)\n",
        "    \n",
        "    sse_within_cluster = {}\n",
        "    silhouette_score = {}\n",
        "    \n",
        "    for k in range(2, max_loop):\n",
        "        kmeans = KMeans(n_clusters=k,  random_state=10, n_init=10)\n",
        "        kmeans.fit(X_rb)\n",
        "        sse_within_cluster[k] = kmeans.inertia_\n",
        "        silhouette_score[k] = metrics.silhouette_score(X_rb, kmeans.labels_, random_state=10)\n",
        "\n",
        "    _ = plt.figure(figsize=(10,6))\n",
        "    ax1 = plt.subplot(211)\n",
        "    _ = plt.plot(list(sse_within_cluster.keys()), list(sse_within_cluster.values()))\n",
        "    _ = plt.xlabel(\"Number of Clusters\")\n",
        "    _ = plt.ylabel(\"Inertia\")\n",
        "    _ = plt.title(\"Elbow Visualisations for chossing optimal number of clusters.\")\n",
        "    _ = plt.xticks([i for i in range(2, max_loop)], rotation=75)\n",
        "    \n",
        "    plt.subplots_adjust(top=0.92, bottom=0.08, left=0.10, right=0.95, hspace=0.5, wspace=0.35)"
      ],
      "metadata": {
        "id": "Yb7Cd2Zm2kaq"
      },
      "execution_count": null,
      "outputs": []
    },
    {
      "cell_type": "code",
      "source": [
        "plot_cluster(data_new)"
      ],
      "metadata": {
        "colab": {
          "base_uri": "https://localhost:8080/",
          "height": 238
        },
        "id": "9tcl4v5K2q4G",
        "outputId": "df0c6878-9af6-4f33-c6c7-8f2a76d85b14"
      },
      "execution_count": null,
      "outputs": [
        {
          "output_type": "display_data",
          "data": {
            "image/png": "[encoded data removed]",
            "text/plain": [
              "<Figure size 720x432 with 1 Axes>"
            ]
          },
          "metadata": {}
        }
      ]
    },
    {
      "cell_type": "code",
      "source": [
        "from sklearn.mixture import GaussianMixture\n",
        "gmm = GaussianMixture(n_components=6,covariance_type='spherical',random_state=11).fit(data_new)\n",
        "labels = gmm.predict(data_new)"
      ],
      "metadata": {
        "id": "-bvXER0Q3ARB"
      },
      "execution_count": null,
      "outputs": []
    },
    {
      "cell_type": "code",
      "source": [
        "data_new['cluster'] = labels"
      ],
      "metadata": {
        "colab": {
          "base_uri": "https://localhost:8080/"
        },
        "id": "rYNBFBZM3Ckv",
        "outputId": "51a98ea3-ba37-4a98-afaa-6c66c76446cf"
      },
      "execution_count": null,
      "outputs": [
        {
          "output_type": "stream",
          "name": "stderr",
          "text": [
            "/usr/local/lib/python3.7/dist-packages/ipykernel_launcher.py:1: SettingWithCopyWarning: \n",
            "A value is trying to be set on a copy of a slice from a DataFrame.\n",
            "Try using .loc[row_indexer,col_indexer] = value instead\n",
            "\n",
            "See the caveats in the documentation: https://pandas.pydata.org/pandas-docs/stable/user_guide/indexing.html#returning-a-view-versus-a-copy\n",
            "  \"\"\"Entry point for launching an IPython kernel.\n"
          ]
        }
      ]
    },
    {
      "cell_type": "code",
      "source": [
        "data_new['cluster'].describe()"
      ],
      "metadata": {
        "colab": {
          "base_uri": "https://localhost:8080/"
        },
        "id": "YECH7aX33EcW",
        "outputId": "37df7a20-c4c9-4f6a-881b-baeed6742b71"
      },
      "execution_count": null,
      "outputs": [
        {
          "output_type": "execute_result",
          "data": {
            "text/plain": [
              "count    399.000000\n",
              "mean       1.165414\n",
              "std        1.432819\n",
              "min        0.000000\n",
              "25%        0.000000\n",
              "50%        0.000000\n",
              "75%        3.000000\n",
              "max        5.000000\n",
              "Name: cluster, dtype: float64"
            ]
          },
          "metadata": {},
          "execution_count": 107
        }
      ]
    },
    {
      "cell_type": "code",
      "source": [
        "data_new.head()"
      ],
      "metadata": {
        "colab": {
          "base_uri": "https://localhost:8080/",
          "height": 206
        },
        "id": "XRpBAKc-3JZD",
        "outputId": "d390b1a2-d00c-48de-f7c5-d0e6fee05bf1"
      },
      "execution_count": null,
      "outputs": [
        {
          "output_type": "execute_result",
          "data": {
            "text/html": [
              "<div>\n",
              "<style scoped>\n",
              "    .dataframe tbody tr th:only-of-type {\n",
              "        vertical-align: middle;\n",
              "    }\n",
              "\n",
              "    .dataframe tbody tr th {\n",
              "        vertical-align: top;\n",
              "    }\n",
              "\n",
              "    .dataframe thead th {\n",
              "        text-align: right;\n",
              "    }\n",
              "</style>\n",
              "<table border=\"1\" class=\"dataframe\">\n",
              "  <thead>\n",
              "    <tr style=\"text-align: right;\">\n",
              "      <th></th>\n",
              "      <th>Price</th>\n",
              "      <th>RentalIncome</th>\n",
              "      <th>cluster</th>\n",
              "    </tr>\n",
              "  </thead>\n",
              "  <tbody>\n",
              "    <tr>\n",
              "      <th>0</th>\n",
              "      <td>655000</td>\n",
              "      <td>-14854.893333</td>\n",
              "      <td>0</td>\n",
              "    </tr>\n",
              "    <tr>\n",
              "      <th>1</th>\n",
              "      <td>920000</td>\n",
              "      <td>-22276.080000</td>\n",
              "      <td>0</td>\n",
              "    </tr>\n",
              "    <tr>\n",
              "      <th>2</th>\n",
              "      <td>1420000</td>\n",
              "      <td>-36271.613333</td>\n",
              "      <td>2</td>\n",
              "    </tr>\n",
              "    <tr>\n",
              "      <th>3</th>\n",
              "      <td>1379000</td>\n",
              "      <td>-34717.280000</td>\n",
              "      <td>2</td>\n",
              "    </tr>\n",
              "    <tr>\n",
              "      <th>4</th>\n",
              "      <td>900000</td>\n",
              "      <td>-21187.106667</td>\n",
              "      <td>0</td>\n",
              "    </tr>\n",
              "  </tbody>\n",
              "</table>\n",
              "</div>"
            ],
            "text/plain": [
              "     Price  RentalIncome  cluster\n",
              "0   655000 -14854.893333        0\n",
              "1   920000 -22276.080000        0\n",
              "2  1420000 -36271.613333        2\n",
              "3  1379000 -34717.280000        2\n",
              "4   900000 -21187.106667        0"
            ]
          },
          "metadata": {},
          "execution_count": 108
        }
      ]
    },
    {
      "cell_type": "code",
      "source": [
        "score = metrics.silhouette_score(data_new[['Price','RentalIncome']], labels, random_state=10)\n",
        "\n",
        "print(\"silhouette score: \" + str(score.round(2)))"
      ],
      "metadata": {
        "colab": {
          "base_uri": "https://localhost:8080/"
        },
        "id": "Qy0AkrCJ3NoT",
        "outputId": "9a65b338-ea24-4e57-d0a1-23e496365883"
      },
      "execution_count": null,
      "outputs": [
        {
          "output_type": "stream",
          "name": "stdout",
          "text": [
            "silhouette score: 0.64\n"
          ]
        }
      ]
    },
    {
      "cell_type": "code",
      "source": [
        "time_elasped = np.random.randint(50, 500, size=data_new.shape[0])\n",
        "final_house_data['time_elasped']= time_elasped *1\n",
        "\n",
        "Change= np.random.randint(5,8, size=data_new.shape[0])\n",
        "final_house_data['Change %']= Change * 1\n",
        "\n",
        "increase_in_neighbourhood= np.random.randint(2,9, size=data_new.shape[0])\n",
        "final_house_data['increase_in_neighbourhood']= increase_in_neighbourhood * 1\n",
        "\n",
        "final_house_data['time_elasped_after2years']=final_house_data['time_elasped']+1000\n",
        "\n",
        "feature_columns=[ 'Price','increase_in_neighbourhood','Change %','time_elasped']"
      ],
      "metadata": {
        "id": "GiJNeQhU3bPF"
      },
      "execution_count": null,
      "outputs": []
    },
    {
      "cell_type": "markdown",
      "source": [
        "## Modelling"
      ],
      "metadata": {
        "id": "kZlTHuFWwt3S"
      }
    },
    {
      "cell_type": "markdown",
      "source": [
        "## KNN"
      ],
      "metadata": {
        "id": "dEmvPNPZ34JX"
      }
    },
    {
      "cell_type": "code",
      "source": [
        "import pandas as pd\n",
        "import numpy as np\n",
        "import matplotlib.pyplot as plt\n",
        "import seaborn as sns\n",
        "from sklearn.model_selection import train_test_split, cross_val_score\n",
        "from sklearn.dummy import DummyRegressor\n",
        "from sklearn.linear_model import LinearRegression, Lasso, Ridge\n",
        "from sklearn.metrics import mean_squared_error\n",
        "from sklearn.preprocessing import StandardScaler\n",
        "import numpy as np\n",
        "\n",
        "import pandas as pd\n",
        "D=final_house_data[feature_columns]\n",
        "e=final_house_data['Price']\n",
        "from sklearn.model_selection import train_test_split\n",
        "D_train, D_test, e_train, e_test =  train_test_split(D,e,test_size = 0.2) \n",
        "\n",
        "# Model\n",
        "ridge = Ridge(alpha = 1025) \n",
        "ridge = ridge.fit(D_train,e_train)\n",
        "pred=ridge.predict(D_test)\n",
        "mse = np.mean((pred - e_test)**2)\n",
        "ridge.score(D_test,e_test)"
      ],
      "metadata": {
        "colab": {
          "base_uri": "https://localhost:8080/"
        },
        "id": "lx0j2H_c3543",
        "outputId": "335d8ee8-5c66-4729-cace-a7048e2d2ce4"
      },
      "execution_count": null,
      "outputs": [
        {
          "output_type": "execute_result",
          "data": {
            "text/plain": [
              "1.0"
            ]
          },
          "metadata": {},
          "execution_count": 111
        }
      ]
    },
    {
      "cell_type": "code",
      "source": [
        "# KNN model:\n",
        "from sklearn.neighbors import KNeighborsRegressor\n",
        "neigh = KNeighborsRegressor(n_neighbors=5)\n",
        "\n",
        "\n",
        "neigh = neigh.fit(D_train,e_train)\n",
        "pred=neigh.predict(D_test)\n",
        "mse = np.mean((pred - e_test)**2)\n",
        "neigh.score(D_test,e_test)"
      ],
      "metadata": {
        "colab": {
          "base_uri": "https://localhost:8080/"
        },
        "id": "qiR-beuR4D1K",
        "outputId": "24fe162c-d021-40e8-c77c-c5f5eae5f6f6"
      },
      "execution_count": null,
      "outputs": [
        {
          "output_type": "execute_result",
          "data": {
            "text/plain": [
              "0.8914429310808347"
            ]
          },
          "metadata": {},
          "execution_count": 112
        }
      ]
    },
    {
      "cell_type": "code",
      "source": [
        "#Prediction after 2 Years\n",
        "feature_columns=[ 'Price','increase_in_neighbourhood','Change %','time_elasped_after2years']\n",
        "X_new=final_house_data[feature_columns]\n",
        "# ss = StandardScaler()\n",
        "# X_transform_new = ss.fit_transform(X_new)\n",
        "future_predicted_values=ridge.predict(X_new)\n",
        "future_predicted_values"
      ],
      "metadata": {
        "colab": {
          "base_uri": "https://localhost:8080/"
        },
        "id": "FFakWU_Y5-d-",
        "outputId": "355ac9ad-adb5-4eb9-d223-d40e30594820"
      },
      "execution_count": null,
      "outputs": [
        {
          "output_type": "stream",
          "name": "stderr",
          "text": [
            "/usr/local/lib/python3.7/dist-packages/sklearn/base.py:488: FutureWarning: The feature names should match those that were passed during fit. Starting version 1.2, an error will be raised.\n",
            "Feature names unseen at fit time:\n",
            "- time_elasped_after2years\n",
            "Feature names seen at fit time, yet now missing:\n",
            "- time_elasped\n",
            "\n",
            "  warnings.warn(message, FutureWarning)\n"
          ]
        },
        {
          "output_type": "execute_result",
          "data": {
            "text/plain": [
              "array([6.550000e+05, 9.200000e+05, 1.420000e+06, 1.379000e+06,\n",
              "       9.000000e+05, 5.520000e+05, 1.150000e+06, 2.030000e+06,\n",
              "       6.750000e+05, 1.114000e+06, 1.180000e+06, 1.100000e+06,\n",
              "       1.060000e+06, 2.100000e+06, 1.726000e+06, 2.068000e+06,\n",
              "       6.250000e+05, 7.350000e+05, 2.230000e+06, 2.225000e+06,\n",
              "       2.367000e+06, 1.100000e+06, 1.000000e+06, 6.150000e+05,\n",
              "       1.870000e+06, 2.375000e+06, 7.150000e+05, 9.200000e+05,\n",
              "       7.900000e+05, 1.222000e+06, 1.858000e+06, 1.100000e+06,\n",
              "       9.120000e+05, 8.000000e+05, 6.220000e+05, 1.715000e+06,\n",
              "       8.950000e+05, 1.920000e+06, 4.500000e+05, 1.595000e+06,\n",
              "       1.800000e+06, 2.630000e+06, 1.310000e+06, 1.245000e+06,\n",
              "       1.190000e+06, 7.300000e+05, 7.550000e+05, 1.050297e+06,\n",
              "       1.130000e+06, 8.500000e+05, 1.035000e+06, 1.395000e+06,\n",
              "       7.100000e+05, 5.750000e+05, 1.350000e+06, 8.850000e+05,\n",
              "       1.600000e+06, 1.070000e+06, 6.200000e+05, 1.800000e+06,\n",
              "       1.650000e+06, 3.430000e+06, 3.425000e+06, 9.300000e+05,\n",
              "       1.280000e+06, 2.250000e+05, 1.860000e+06, 7.630000e+05,\n",
              "       1.480000e+06, 1.250000e+06, 1.750000e+06, 1.089000e+06,\n",
              "       8.000000e+05, 2.250000e+05, 1.580000e+05, 3.780000e+05,\n",
              "       1.371000e+06, 8.900000e+05, 1.300000e+06, 7.500000e+05,\n",
              "       5.375000e+05, 8.800000e+05, 4.290000e+05, 7.050000e+05,\n",
              "       6.500000e+05, 6.050000e+05, 7.820000e+05, 5.690000e+05,\n",
              "       1.120000e+06, 1.000000e+06, 5.600000e+05, 5.410000e+05,\n",
              "       1.219000e+06, 1.158000e+06, 1.089000e+06, 1.921000e+06,\n",
              "       4.050000e+05, 4.975000e+05, 2.565000e+05, 1.450000e+06,\n",
              "       9.150000e+05, 2.600000e+05, 5.700000e+05, 8.600000e+05,\n",
              "       8.350000e+05, 2.463630e+05, 5.050000e+05, 2.000000e+06,\n",
              "       6.500000e+05, 2.160000e+05, 8.770000e+05, 4.990000e+05,\n",
              "       8.550000e+05, 9.160000e+05, 6.880000e+05, 7.200000e+05,\n",
              "       5.500000e+05, 6.800000e+05, 6.550000e+05, 7.000000e+05,\n",
              "       7.000000e+05, 5.700000e+05, 1.012500e+06, 6.770000e+05,\n",
              "       1.590000e+06, 6.650000e+05, 1.100000e+06, 5.500000e+05,\n",
              "       1.130000e+06, 5.100000e+05, 6.700000e+05, 1.650000e+07,\n",
              "       1.650000e+07, 8.700000e+05, 6.650000e+05, 6.000000e+05,\n",
              "       4.080000e+06, 1.075000e+06, 9.750000e+05, 1.670000e+05,\n",
              "       6.400000e+05, 7.500000e+05, 9.700000e+05, 7.000000e+05,\n",
              "       1.900000e+06, 6.300000e+05, 5.220000e+05, 9.850000e+05,\n",
              "       1.250000e+06, 8.900000e+05, 8.600000e+05, 6.360000e+05,\n",
              "       6.250000e+05, 6.000000e+05, 8.060000e+05, 9.150000e+04,\n",
              "       1.050000e+06, 3.960000e+06, 7.300000e+05, 9.200000e+05,\n",
              "       7.250000e+05, 1.025000e+06, 1.200000e+06, 1.025000e+06,\n",
              "       5.250000e+05, 1.660000e+06, 1.660000e+06, 1.127000e+06,\n",
              "       9.510000e+05, 8.200000e+05, 4.900000e+05, 6.920000e+05,\n",
              "       1.200000e+06, 4.450000e+05, 2.200000e+06, 7.900000e+05,\n",
              "       1.445000e+06, 1.785000e+06, 8.300000e+05, 9.250000e+05,\n",
              "       1.349000e+06, 1.650000e+06, 7.630000e+05, 1.352000e+06,\n",
              "       7.450000e+05, 7.000000e+05, 2.200000e+06, 6.500000e+05,\n",
              "       6.500000e+05, 6.550000e+05, 1.075000e+06, 8.310000e+05,\n",
              "       9.050000e+05, 7.150000e+05, 4.075000e+06, 2.400000e+04,\n",
              "       7.765000e+05, 1.025000e+06, 6.055000e+05, 1.730000e+06,\n",
              "       7.000000e+05, 7.150000e+05, 8.700000e+05, 9.500000e+05,\n",
              "       1.670000e+05, 8.700000e+05, 8.750000e+05, 2.050000e+06,\n",
              "       1.108000e+06, 1.108000e+06, 2.550000e+05, 1.150000e+06,\n",
              "       8.250000e+05, 1.185000e+06, 9.500000e+05, 8.000000e+05,\n",
              "       1.200000e+06, 9.640000e+05, 8.820000e+05, 1.525000e+06,\n",
              "       7.500000e+05, 1.085000e+06, 1.000000e+06, 1.000000e+06,\n",
              "       3.820000e+05, 4.250000e+05, 9.150000e+05, 9.600000e+05,\n",
              "       1.800000e+03, 3.850000e+03, 2.495000e+03, 2.300000e+03,\n",
              "       1.990000e+03, 1.895000e+03, 2.095000e+03, 1.895000e+03,\n",
              "       3.200000e+03, 3.150000e+03, 2.595000e+03, 2.295000e+03,\n",
              "       2.000000e+03, 2.350000e+03, 2.495000e+03, 3.295000e+03,\n",
              "       1.350000e+03, 4.800000e+03, 2.495000e+03, 1.595000e+03,\n",
              "       1.435000e+03, 1.750000e+03, 4.200000e+03, 3.799000e+03,\n",
              "       2.700000e+03, 2.350000e+03, 1.700000e+03, 1.400000e+03,\n",
              "       2.095000e+03, 1.995000e+03, 1.595000e+03, 3.800000e+03,\n",
              "       1.750000e+03, 1.695000e+03, 2.800000e+03, 1.695000e+03,\n",
              "       3.500000e+03, 3.900000e+03, 2.575000e+03, 2.100000e+03,\n",
              "       2.500000e+03, 7.000000e+03, 2.895000e+03, 1.499000e+03,\n",
              "       1.595000e+03, 1.850000e+03, 1.800000e+03, 1.895000e+03,\n",
              "       1.895000e+03, 1.850000e+03, 3.200000e+03, 2.250000e+03,\n",
              "       1.595000e+03, 1.500000e+03, 4.000000e+03, 1.450000e+03,\n",
              "       1.395000e+03, 2.400000e+03, 3.650000e+03, 4.800000e+03,\n",
              "       3.850000e+03, 3.720000e+03, 3.650000e+03, 2.650000e+03,\n",
              "       3.000000e+03, 2.650000e+03, 1.950000e+03, 2.499000e+03,\n",
              "       2.495000e+03, 2.100000e+03, 1.995000e+03, 1.700000e+03,\n",
              "       1.695000e+03, 8.500000e+02, 1.595000e+03, 1.895000e+03,\n",
              "       2.095000e+03, 1.700000e+03, 1.995000e+03, 1.840000e+03,\n",
              "       2.680000e+03, 1.495000e+03, 1.850000e+03, 2.275000e+03,\n",
              "       1.300000e+03, 2.700000e+03, 3.934000e+03, 1.750000e+03,\n",
              "       1.595000e+03, 1.800000e+03, 1.895000e+03, 3.750000e+03,\n",
              "       2.300000e+03, 2.295000e+03, 3.575000e+03, 1.900000e+03,\n",
              "       1.595000e+03, 1.985000e+03, 1.500000e+03, 1.400000e+03,\n",
              "       1.795000e+03, 2.400000e+03, 2.000000e+03, 1.900000e+03,\n",
              "       2.395000e+03, 1.088000e+06, 9.880000e+05, 6.238000e+05,\n",
              "       5.980000e+05, 1.049990e+06, 1.249950e+06, 9.998880e+05,\n",
              "       1.249000e+06, 9.500000e+05, 6.780000e+05, 1.648000e+06,\n",
              "       1.599000e+06, 1.150000e+06, 1.499000e+06, 9.280000e+05,\n",
              "       1.075000e+06, 6.499990e+05, 8.280000e+05, 7.650000e+05,\n",
              "       6.200000e+06, 7.299990e+05, 5.750000e+05, 5.630000e+05,\n",
              "       1.250000e+06, 1.650000e+06, 8.950000e+05, 7.998000e+05,\n",
              "       1.249000e+06, 4.199990e+05, 1.149000e+06, 9.240000e+05,\n",
              "       6.750000e+05, 1.450000e+06, 6.500000e+05, 5.590000e+05,\n",
              "       1.275000e+06, 1.048000e+06, 8.488880e+05, 1.299000e+06,\n",
              "       9.188880e+05, 8.750000e+05, 9.350000e+05, 1.199900e+06,\n",
              "       1.195000e+06, 8.990000e+05, 1.100000e+06, 1.005000e+07,\n",
              "       9.490000e+05, 1.850000e+06, 9.570000e+05, 1.150000e+06,\n",
              "       1.888000e+06, 8.990000e+05, 6.799500e+05, 6.780000e+05,\n",
              "       5.990000e+05, 5.750000e+05, 1.860000e+06, 2.288888e+06,\n",
              "       5.888880e+05, 7.490000e+05, 6.990000e+05, 2.250000e+06,\n",
              "       2.395000e+06, 5.090000e+05, 7.790000e+05])"
            ]
          },
          "metadata": {},
          "execution_count": 113
        }
      ]
    },
    {
      "cell_type": "code",
      "source": [
        "# get profit values based on the future values \n",
        "final_house_data['Listprice_2_years']=future_predicted_values\n",
        "final_house_data['profit_value']=(final_house_data['Listprice_2_years']-final_house_data['Price'])/final_house_data['Price']"
      ],
      "metadata": {
        "id": "oyHqDWOz6T9-"
      },
      "execution_count": null,
      "outputs": []
    },
    {
      "cell_type": "code",
      "source": [
        "final_house_data['investment_label']=0\n",
        "final_house_data.loc[final_house_data['profit_value']>0,'investment_label'] = 1"
      ],
      "metadata": {
        "id": "sPz_XwjV6uRx"
      },
      "execution_count": null,
      "outputs": []
    },
    {
      "cell_type": "code",
      "source": [
        "final_house_data['investment_label'].value_counts()"
      ],
      "metadata": {
        "colab": {
          "base_uri": "https://localhost:8080/"
        },
        "id": "7UEkXep46x49",
        "outputId": "2b156ddd-62d9-491e-9dc3-e7ab10d65cba"
      },
      "execution_count": null,
      "outputs": [
        {
          "output_type": "execute_result",
          "data": {
            "text/plain": [
              "0    283\n",
              "1    116\n",
              "Name: investment_label, dtype: int64"
            ]
          },
          "metadata": {},
          "execution_count": 116
        }
      ]
    },
    {
      "cell_type": "code",
      "source": [
        "from matplotlib.colors import ListedColormap\n",
        "from sklearn.model_selection import train_test_split\n",
        "from sklearn.preprocessing import StandardScaler\n",
        "from sklearn.datasets import make_moons, make_circles, make_classification\n",
        "from sklearn.neural_network import MLPClassifier\n",
        "from sklearn.neighbors import KNeighborsClassifier\n",
        "from sklearn.svm import SVC\n",
        "from sklearn.gaussian_process import GaussianProcessClassifier\n",
        "from sklearn.gaussian_process.kernels import RBF\n",
        "from sklearn.tree import DecisionTreeClassifier\n",
        "from sklearn.ensemble import RandomForestClassifier, AdaBoostClassifier\n",
        "from sklearn.naive_bayes import GaussianNB\n",
        "from sklearn.discriminant_analysis import QuadraticDiscriminantAnalysis\n",
        "!pip install xgboost\n",
        "from xgboost import XGBClassifier\n",
        "from yellowbrick.classifier import ConfusionMatrix, ClassificationReport"
      ],
      "metadata": {
        "colab": {
          "base_uri": "https://localhost:8080/"
        },
        "id": "FdiPZoBi7t8U",
        "outputId": "0ea4d533-6f48-4a2b-9d1b-6e2e341e45de"
      },
      "execution_count": null,
      "outputs": [
        {
          "output_type": "stream",
          "name": "stdout",
          "text": [
            "Requirement already satisfied: xgboost in /usr/local/lib/python3.7/dist-packages (0.90)\n",
            "Requirement already satisfied: scipy in /usr/local/lib/python3.7/dist-packages (from xgboost) (1.4.1)\n",
            "Requirement already satisfied: numpy in /usr/local/lib/python3.7/dist-packages (from xgboost) (1.19.5)\n"
          ]
        }
      ]
    },
    {
      "cell_type": "code",
      "source": [
        "import pickle\n",
        "def pickleAndLoad(model,fileName):\n",
        "  pickle.dump(model, open(fileName, 'wb'))\n",
        "  loaded_model = pickle.load(open(fileName, 'rb'))\n",
        "  return loaded_model;"
      ],
      "metadata": {
        "id": "W72dTGuMMygG"
      },
      "execution_count": null,
      "outputs": []
    },
    {
      "cell_type": "markdown",
      "source": [
        "## AdaBoostClassifier - Final Model"
      ],
      "metadata": {
        "id": "cySBZin_5oPT"
      }
    },
    {
      "cell_type": "code",
      "source": [
        "from sklearn.ensemble import RandomForestClassifier, AdaBoostClassifier\n",
        "from sklearn.model_selection import train_test_split\n",
        "\n",
        "feature_cols=['Price','RentalIncome','Change %','time_elasped_after2years','increase_in_neighbourhood', 'Property_Crime','Violent_crime','commute_time']\n",
        "\n",
        "X = final_house_data[feature_cols]\n",
        "y = final_house_data['investment_label']\n",
        "\n",
        "\n",
        "M_train, M_test, n_train, n_test = train_test_split(X, y, test_size=0.3, random_state=1)\n",
        "# Create Decision Tree classifer object\n",
        "clf =    AdaBoostClassifier()\n",
        "\n",
        "# Train Decision Tree Classifer\n",
        "clf = clf.fit(M_train,n_train)\n",
        "\n",
        "#Predict the response for test dataset\n",
        "y_pred = clf.predict(M_test)\n",
        "file = open('AdaBoostModel', 'wb')\n",
        "pickle.dump(clf, file)\n",
        "y_pred"
      ],
      "metadata": {
        "colab": {
          "base_uri": "https://localhost:8080/"
        },
        "id": "_iVfBxWE8e_R",
        "outputId": "bd504264-af09-4713-e152-d467094e030a"
      },
      "execution_count": null,
      "outputs": [
        {
          "output_type": "execute_result",
          "data": {
            "text/plain": [
              "array([0, 0, 1, 1, 1, 1, 0, 0, 0, 0, 0, 0, 1, 1, 0, 0, 0, 0, 0, 1, 0, 1,\n",
              "       0, 0, 1, 0, 0, 1, 0, 0, 0, 0, 0, 1, 1, 0, 0, 0, 0, 0, 0, 1, 1, 0,\n",
              "       1, 1, 1, 0, 0, 0, 0, 1, 0, 0, 1, 0, 0, 1, 1, 0, 0, 0, 0, 0, 1, 1,\n",
              "       1, 0, 0, 0, 1, 0, 0, 1, 0, 0, 1, 0, 0, 0, 1, 0, 0, 0, 0, 0, 0, 1,\n",
              "       1, 0, 1, 0, 0, 1, 0, 0, 1, 0, 0, 0, 0, 0, 0, 1, 1, 1, 1, 0, 0, 0,\n",
              "       1, 1, 0, 0, 0, 0, 0, 0, 1, 1])"
            ]
          },
          "metadata": {},
          "execution_count": 121
        }
      ]
    },
    {
      "cell_type": "markdown",
      "source": [
        ""
      ],
      "metadata": {
        "id": "IEI4Gf3a7OXC"
      }
    },
    {
      "cell_type": "code",
      "source": [
        "from sklearn import metrics\n",
        "#accuracy\n",
        "print(\"accuracy:\", metrics.accuracy_score(n_test,y_pred))\n",
        "#precision score\n",
        "print(\"precision:\", metrics.precision_score(n_test,y_pred))\n",
        "#recall score\n",
        "print(\"recall\" , metrics.recall_score(n_test,y_pred))\n",
        "print(metrics.classification_report(n_test, y_pred))"
      ],
      "metadata": {
        "id": "zo59PzvexUoD",
        "colab": {
          "base_uri": "https://localhost:8080/"
        },
        "outputId": "c97415f8-a8be-4bf3-d8fa-32da26e620af"
      },
      "execution_count": null,
      "outputs": [
        {
          "output_type": "stream",
          "name": "stdout",
          "text": [
            "accuracy: 0.9833333333333333\n",
            "precision: 0.975609756097561\n",
            "recall 0.975609756097561\n",
            "              precision    recall  f1-score   support\n",
            "\n",
            "           0       0.99      0.99      0.99        79\n",
            "           1       0.98      0.98      0.98        41\n",
            "\n",
            "    accuracy                           0.98       120\n",
            "   macro avg       0.98      0.98      0.98       120\n",
            "weighted avg       0.98      0.98      0.98       120\n",
            "\n"
          ]
        }
      ]
    },
    {
      "cell_type": "code",
      "source": [
        "# y_test=n_test\n",
        "# pred=y_pred\n",
        "# X_train=M_train\n",
        "# y_train=n_train\n",
        "# X_test=M_test"
      ],
      "metadata": {
        "id": "uqkvJ2o-9EWA"
      },
      "execution_count": null,
      "outputs": []
    },
    {
      "cell_type": "markdown",
      "source": [
        "## Confusion Matrix"
      ],
      "metadata": {
        "id": "HNvMPIqt7ZxQ"
      }
    },
    {
      "cell_type": "code",
      "source": [
        "from sklearn.metrics import confusion_matrix\n",
        "fig, ax = plt.subplots()\n",
        "cm = ConfusionMatrix(clf, classes=[0, 1], ax=ax)\n",
        "\n",
        "#Fit fits the passed model. This is unnecessary if you pass the visualizer a pre-fitted model\n",
        "# cm.fit(X_train, y_train)\n",
        "cm.fit(M_train, n_train)\n",
        "\n",
        "#To create the ConfusionMatrix, we need some test data. Score runs predict() on the data\n",
        "#and then creates the confusion_matrix from scikit learn.\n",
        "# cm.score(X_test, y_test)\n",
        "cm.score(M_test, n_test)\n",
        "\n",
        "#How did we do?\n",
        "cm.poof()"
      ],
      "metadata": {
        "colab": {
          "base_uri": "https://localhost:8080/",
          "height": 365
        },
        "id": "hvPtr4at9HgT",
        "outputId": "df0c6124-58f4-45df-96ea-1da5e843f5f9"
      },
      "execution_count": null,
      "outputs": [
        {
          "output_type": "stream",
          "name": "stderr",
          "text": [
            "/usr/local/lib/python3.7/dist-packages/sklearn/base.py:446: UserWarning: X does not have valid feature names, but AdaBoostClassifier was fitted with feature names\n",
            "  \"X does not have valid feature names, but\"\n"
          ]
        },
        {
          "output_type": "display_data",
          "data": {
            "image/png": "[encoded data removed]",
            "text/plain": [
              "<Figure size 432x288 with 1 Axes>"
            ]
          },
          "metadata": {}
        },
        {
          "output_type": "execute_result",
          "data": {
            "text/plain": [
              "<matplotlib.axes._subplots.AxesSubplot at 0x7fcee52518d0>"
            ]
          },
          "metadata": {},
          "execution_count": 123
        }
      ]
    }
  ]
}